{
 "cells": [
  {
   "cell_type": "markdown",
   "source": [
    "# Plucker vectors and coordinate transforms"
   ],
   "metadata": {}
  },
  {
   "cell_type": "markdown",
   "source": [
    "Here we discuss the use of Plücker vectors and their transforms for\n",
    "describing rigid-body motion and force. Plücker vectors succinctly describe\n",
    "both the angular (rotational) and linear (translational) part of motion, and the angular (moment) and\n",
    "linear (force) part of force. In three dimensions, a Plücker vector is 6-dimensional,\n",
    "e.g., Plücker velocity and force vectors are\n",
    "\n",
    "$$v = \\begin{bmatrix} \\Omega_x \\\\ \\Omega_y \\\\ \\Omega_z \\\\ U_x \\\\ U_y \\\\ U_z \\end{bmatrix}, \\qquad\n",
    "f = \\begin{bmatrix} M_x \\\\ M_y \\\\ M_z \\\\ F_x \\\\ F_y \\\\ F_z \\end{bmatrix}$$\n",
    "\n",
    "In two dimensions, there is only one angular component and two linear components, e.g.,\n",
    "\n",
    "$$v = \\begin{bmatrix} \\Omega_z \\\\ U_x \\\\ U_y \\end{bmatrix}, \\qquad f = \\begin{bmatrix} M_z \\\\ F_x \\\\ F_y \\end{bmatrix}$$\n",
    "\n",
    "We need to be able to transform these vectors from one coordinate system to another.\n",
    "This requires rotating their components and shifting their center from one origin to another.\n",
    "For example, a translational velocity based at system B will be different from\n",
    "the translational velocity at system A because of the rotational velocity, $\\Omega \\times {}^Br_{A}$,\n",
    "where ${}^Br_{A}$ is the vector from the origin of A to the origin of B.\n",
    "\n",
    "Similarly, the moment about B will be different from the moment about A due to\n",
    "the moment arm ${}^Br_{A} \\times F$."
   ],
   "metadata": {}
  },
  {
   "outputs": [],
   "cell_type": "code",
   "source": [
    "using RigidBodyTools\n",
    "using LinearAlgebra\n",
    "using Plots"
   ],
   "metadata": {},
   "execution_count": 1
  },
  {
   "cell_type": "markdown",
   "source": [
    "## Plücker vectors\n",
    "A Plücker vector is easily created by simply supplying a vector of its components"
   ],
   "metadata": {}
  },
  {
   "outputs": [
    {
     "output_type": "execute_result",
     "data": {
      "text/plain": "2d Plucker motion vector, Ω = 1.0, U = [2.0, 3.0]"
     },
     "metadata": {},
     "execution_count": 2
    }
   ],
   "cell_type": "code",
   "source": [
    "v = PluckerMotion([1.0,2.0,3.0])"
   ],
   "metadata": {},
   "execution_count": 2
  },
  {
   "cell_type": "markdown",
   "source": [
    "This created a 2d motion vector, with angular velocity 1.0 and linear\n",
    "velocity (2.0,3.0). One can also supply the angular and linear\n",
    "parts separately, using keywords. If one of these keywords is\n",
    "omitted, it defaults to zero for that part. Note that we also need\n",
    "to write this as `PluckerMotion{2}` to specify the physical dimensionality.\n",
    "For a 3d motion vector, one would write `PluckerMotion{3}` here."
   ],
   "metadata": {}
  },
  {
   "outputs": [
    {
     "output_type": "execute_result",
     "data": {
      "text/plain": "true"
     },
     "metadata": {},
     "execution_count": 3
    }
   ],
   "cell_type": "code",
   "source": [
    "v2 = PluckerMotion{2}(angular=1.0,linear=[2.0,3.0])\n",
    "v2 == v"
   ],
   "metadata": {},
   "execution_count": 3
  },
  {
   "cell_type": "markdown",
   "source": [
    "We can also pick off the angular and linear parts"
   ],
   "metadata": {}
  },
  {
   "outputs": [
    {
     "output_type": "execute_result",
     "data": {
      "text/plain": "2d Plucker motion vector, Ω = 1.0, U = [0.0, 0.0]"
     },
     "metadata": {},
     "execution_count": 4
    }
   ],
   "cell_type": "code",
   "source": [
    "angular_only(v)"
   ],
   "metadata": {},
   "execution_count": 4
  },
  {
   "cell_type": "markdown",
   "source": [
    "and"
   ],
   "metadata": {}
  },
  {
   "outputs": [
    {
     "output_type": "execute_result",
     "data": {
      "text/plain": "2d Plucker motion vector, Ω = 0.0, U = [2.0, 3.0]"
     },
     "metadata": {},
     "execution_count": 5
    }
   ],
   "cell_type": "code",
   "source": [
    "linear_only(v)"
   ],
   "metadata": {},
   "execution_count": 5
  },
  {
   "cell_type": "markdown",
   "source": [
    "Force vectors are similar"
   ],
   "metadata": {}
  },
  {
   "outputs": [
    {
     "output_type": "execute_result",
     "data": {
      "text/plain": "2d Plucker force vector, M = -1.0, F = [-3.5, 2.25]"
     },
     "metadata": {},
     "execution_count": 6
    }
   ],
   "cell_type": "code",
   "source": [
    "f = PluckerForce([-1.0,-3.5,2.25])"
   ],
   "metadata": {},
   "execution_count": 6
  },
  {
   "cell_type": "markdown",
   "source": [
    "The vectors of the same type can be added and subtracted"
   ],
   "metadata": {}
  },
  {
   "outputs": [
    {
     "output_type": "execute_result",
     "data": {
      "text/plain": "2d Plucker motion vector, Ω = 2.0, U = [4.0, 6.0]"
     },
     "metadata": {},
     "execution_count": 7
    }
   ],
   "cell_type": "code",
   "source": [
    "v3 = v + v2"
   ],
   "metadata": {},
   "execution_count": 7
  },
  {
   "cell_type": "markdown",
   "source": [
    "We can also take a scalar product of force and motion vectors"
   ],
   "metadata": {}
  },
  {
   "outputs": [
    {
     "output_type": "execute_result",
     "data": {
      "text/plain": "-1.25"
     },
     "metadata": {},
     "execution_count": 8
    }
   ],
   "cell_type": "code",
   "source": [
    "dot(f,v)"
   ],
   "metadata": {},
   "execution_count": 8
  },
  {
   "cell_type": "markdown",
   "source": [
    "## Transforms\n",
    "Transforms are constructed by describing the relationship between the two\n",
    "coordinate systems. Consider the example in the figure below.\n",
    "\n",
    "![CoordinateSystems.svg](CoordinateSystems.svg)\n",
    "\n",
    "To develop the 2d transform from A to B, we supply the position $r$ and\n",
    "the rotation angle $\\theta$. For example, if B is shifted by [1,1]\n",
    "and rotated by angle $\\pi/6$ counterclockwise about A, then we construct the transform\n",
    "as"
   ],
   "metadata": {}
  },
  {
   "outputs": [
    {
     "output_type": "execute_result",
     "data": {
      "text/plain": "2d motion transform, x = [1.0, 1.0], R = [0.8660254037844387 0.49999999999999994; -0.49999999999999994 0.8660254037844387]"
     },
     "metadata": {},
     "execution_count": 9
    }
   ],
   "cell_type": "code",
   "source": [
    "Xm = MotionTransform([1,1],π/6)"
   ],
   "metadata": {},
   "execution_count": 9
  },
  {
   "cell_type": "markdown",
   "source": [
    "Note that it uses the angle of rotation, $\\pi/6$, to create a rotation\n",
    "matrix operator.\n",
    "\n",
    "A 2d force transform would be constructed by"
   ],
   "metadata": {}
  },
  {
   "outputs": [
    {
     "output_type": "execute_result",
     "data": {
      "text/plain": "2d force transform, x = [1.0, 1.0], R = [0.8660254037844387 0.49999999999999994; -0.49999999999999994 0.8660254037844387]"
     },
     "metadata": {},
     "execution_count": 10
    }
   ],
   "cell_type": "code",
   "source": [
    "Xf = ForceTransform([1,1],π/6)"
   ],
   "metadata": {},
   "execution_count": 10
  },
  {
   "cell_type": "markdown",
   "source": [
    "For 3d transforms, we need to supply the rotation operator itself (as well\n",
    "as the 3d translation vector). Often, this rotation is done by\n",
    "rotating about a certain axis by a certain angle. We do this with the\n",
    "`rotation_about_axis` function. For example, to rotate by $\\pi/4$ about\n",
    "an axis parallel to the vector $[1,1,1]$, then we use"
   ],
   "metadata": {}
  },
  {
   "outputs": [
    {
     "output_type": "execute_result",
     "data": {
      "text/plain": "3×3 StaticArraysCore.SMatrix{3, 3, Float64, 9} with indices SOneTo(3)×SOneTo(3):\n  0.804738  -0.310617   0.505879\n  0.505879   0.804738  -0.310617\n -0.310617   0.505879   0.804738"
     },
     "metadata": {},
     "execution_count": 11
    }
   ],
   "cell_type": "code",
   "source": [
    "R = rotation_about_axis(π/4,[1,1,1])"
   ],
   "metadata": {},
   "execution_count": 11
  },
  {
   "cell_type": "markdown",
   "source": [
    "and then to translate this rotated system by $[-1,-2,-3]$,"
   ],
   "metadata": {}
  },
  {
   "outputs": [
    {
     "output_type": "execute_result",
     "data": {
      "text/plain": "3d motion transform, x = [-1, -2, -3], R = [0.8047378541243648 -0.31061721752604554 0.5058793634016806; 0.5058793634016806 0.8047378541243648 -0.31061721752604554; -0.31061721752604554 0.5058793634016806 0.8047378541243648]"
     },
     "metadata": {},
     "execution_count": 12
    }
   ],
   "cell_type": "code",
   "source": [
    "Xm = MotionTransform([-1,-2,-3],R)"
   ],
   "metadata": {},
   "execution_count": 12
  },
  {
   "cell_type": "markdown",
   "source": [
    "and similarly for a force transform."
   ],
   "metadata": {}
  },
  {
   "cell_type": "markdown",
   "source": [
    "We can also compute the inverses of these transforms, to transform back from\n",
    "B to A"
   ],
   "metadata": {}
  },
  {
   "outputs": [
    {
     "output_type": "execute_result",
     "data": {
      "text/plain": "3d motion transform, x = [1.7011415092773154, 1.1835034190722733, 3.11535507165041], R = [0.8047378541243648 0.5058793634016806 -0.31061721752604554; -0.31061721752604554 0.8047378541243648 0.5058793634016806; 0.5058793634016806 -0.31061721752604554 0.8047378541243648]"
     },
     "metadata": {},
     "execution_count": 13
    }
   ],
   "cell_type": "code",
   "source": [
    "inv(Xm)"
   ],
   "metadata": {},
   "execution_count": 13
  },
  {
   "cell_type": "markdown",
   "source": [
    "Transforms of the same type (motion or force) can be composed via multiplication to transform\n",
    "from, e.g., A to B to C."
   ],
   "metadata": {}
  },
  {
   "outputs": [
    {
     "output_type": "execute_result",
     "data": {
      "text/plain": "2d motion transform, x = [0.1339745962155614, 1.8660254037844388], R = [2.220446049250313e-16 1.0; -1.0 2.220446049250313e-16]"
     },
     "metadata": {},
     "execution_count": 14
    }
   ],
   "cell_type": "code",
   "source": [
    "Xm1 = MotionTransform([1.5,1.5],π/6)\n",
    "Xm2 = MotionTransform([-1,1],π/3)\n",
    "Xm2*Xm1"
   ],
   "metadata": {},
   "execution_count": 14
  },
  {
   "cell_type": "markdown",
   "source": [
    "## Transforming bodies\n",
    "We can use motion transforms, in particular, to place bodies. We simply\n",
    "apply the transform as a function, and it transforms the body's\n",
    "coordinates. For example, transform `Xm1` above shifts the\n",
    "body to `[1.5,1.5]` and rotates it counterclockwise by `π/6`:"
   ],
   "metadata": {}
  },
  {
   "outputs": [
    {
     "output_type": "execute_result",
     "data": {
      "text/plain": "Plot{Plots.GRBackend() n=2}",
      "image/png": "[encoded data removed]",
      "text/html": [
       "<?xml version=\"1.0\" encoding=\"utf-8\"?>\n",
       "<svg xmlns=\"http://www.w3.org/2000/svg\" xmlns:xlink=\"http://www.w3.org/1999/xlink\" width=\"600\" height=\"400\" viewBox=\"0 0 2400 1600\">\n",
       "<defs>\n",
       "  <clipPath id=\"clip650\">\n",
       "    <rect x=\"0\" y=\"0\" width=\"2400\" height=\"1600\"/>\n",
       "  </clipPath>\n",
       "</defs>\n",
       "<path clip-path=\"url(#clip650)\" d=\"M0 1600 L2400 1600 L2400 0 L0 0  Z\" fill=\"#ffffff\" fill-rule=\"evenodd\" fill-opacity=\"1\"/>\n",
       "<defs>\n",
       "  <clipPath id=\"clip651\">\n",
       "    <rect x=\"480\" y=\"0\" width=\"1681\" height=\"1600\"/>\n",
       "  </clipPath>\n",
       "</defs>\n",
       "<path clip-path=\"url(#clip650)\" d=\"M530.804 1486.45 L1970.01 1486.45 L1970.01 47.2441 L530.804 47.2441  Z\" fill=\"#ffffff\" fill-rule=\"evenodd\" fill-opacity=\"1\"/>\n",
       "<defs>\n",
       "  <clipPath id=\"clip652\">\n",
       "    <rect x=\"530\" y=\"47\" width=\"1440\" height=\"1440\"/>\n",
       "  </clipPath>\n",
       "</defs>\n",
       "<polyline clip-path=\"url(#clip650)\" style=\"stroke:#000000; stroke-linecap:round; stroke-linejoin:round; stroke-width:4; stroke-opacity:1; fill:none\" points=\"530.804,1486.45 1970.01,1486.45 \"/>\n",
       "<polyline clip-path=\"url(#clip650)\" style=\"stroke:#000000; stroke-linecap:round; stroke-linejoin:round; stroke-width:4; stroke-opacity:1; fill:none\" points=\"530.804,1486.45 530.804,1467.55 \"/>\n",
       "<polyline clip-path=\"url(#clip650)\" style=\"stroke:#000000; stroke-linecap:round; stroke-linejoin:round; stroke-width:4; stroke-opacity:1; fill:none\" points=\"770.672,1486.45 770.672,1467.55 \"/>\n",
       "<polyline clip-path=\"url(#clip650)\" style=\"stroke:#000000; stroke-linecap:round; stroke-linejoin:round; stroke-width:4; stroke-opacity:1; fill:none\" points=\"1010.54,1486.45 1010.54,1467.55 \"/>\n",
       "<polyline clip-path=\"url(#clip650)\" style=\"stroke:#000000; stroke-linecap:round; stroke-linejoin:round; stroke-width:4; stroke-opacity:1; fill:none\" points=\"1250.41,1486.45 1250.41,1467.55 \"/>\n",
       "<polyline clip-path=\"url(#clip650)\" style=\"stroke:#000000; stroke-linecap:round; stroke-linejoin:round; stroke-width:4; stroke-opacity:1; fill:none\" points=\"1490.27,1486.45 1490.27,1467.55 \"/>\n",
       "<polyline clip-path=\"url(#clip650)\" style=\"stroke:#000000; stroke-linecap:round; stroke-linejoin:round; stroke-width:4; stroke-opacity:1; fill:none\" points=\"1730.14,1486.45 1730.14,1467.55 \"/>\n",
       "<polyline clip-path=\"url(#clip650)\" style=\"stroke:#000000; stroke-linecap:round; stroke-linejoin:round; stroke-width:4; stroke-opacity:1; fill:none\" points=\"1970.01,1486.45 1970.01,1467.55 \"/>\n",
       "<path clip-path=\"url(#clip650)\" d=\"M500.272 1532.02 L529.948 1532.02 L529.948 1535.95 L500.272 1535.95 L500.272 1532.02 Z\" fill=\"#000000\" fill-rule=\"nonzero\" fill-opacity=\"1\" /><path clip-path=\"url(#clip650)\" d=\"M554.207 1530.21 Q557.563 1530.93 559.438 1533.2 Q561.337 1535.47 561.337 1538.8 Q561.337 1543.92 557.818 1546.72 Q554.3 1549.52 547.818 1549.52 Q545.642 1549.52 543.327 1549.08 Q541.036 1548.66 538.582 1547.81 L538.582 1543.29 Q540.527 1544.43 542.841 1545.01 Q545.156 1545.58 547.679 1545.58 Q552.077 1545.58 554.369 1543.85 Q556.684 1542.11 556.684 1538.8 Q556.684 1535.75 554.531 1534.03 Q552.401 1532.3 548.582 1532.3 L544.554 1532.3 L544.554 1528.45 L548.767 1528.45 Q552.216 1528.45 554.045 1527.09 Q555.874 1525.7 555.874 1523.11 Q555.874 1520.45 553.976 1519.03 Q552.101 1517.6 548.582 1517.6 Q546.661 1517.6 544.462 1518.01 Q542.263 1518.43 539.624 1519.31 L539.624 1515.14 Q542.286 1514.4 544.601 1514.03 Q546.939 1513.66 548.999 1513.66 Q554.323 1513.66 557.425 1516.09 Q560.526 1518.5 560.526 1522.62 Q560.526 1525.49 558.883 1527.48 Q557.239 1529.45 554.207 1530.21 Z\" fill=\"#000000\" fill-rule=\"nonzero\" fill-opacity=\"1\" /><path clip-path=\"url(#clip650)\" d=\"M740.614 1532.02 L770.29 1532.02 L770.29 1535.95 L740.614 1535.95 L740.614 1532.02 Z\" fill=\"#000000\" fill-rule=\"nonzero\" fill-opacity=\"1\" /><path clip-path=\"url(#clip650)\" d=\"M784.41 1544.91 L800.729 1544.91 L800.729 1548.85 L778.785 1548.85 L778.785 1544.91 Q781.447 1542.16 786.03 1537.53 Q790.637 1532.88 791.817 1531.53 Q794.063 1529.01 794.942 1527.27 Q795.845 1525.51 795.845 1523.82 Q795.845 1521.07 793.901 1519.33 Q791.979 1517.6 788.878 1517.6 Q786.679 1517.6 784.225 1518.36 Q781.794 1519.13 779.017 1520.68 L779.017 1515.95 Q781.841 1514.82 784.294 1514.24 Q786.748 1513.66 788.785 1513.66 Q794.155 1513.66 797.35 1516.35 Q800.544 1519.03 800.544 1523.52 Q800.544 1525.65 799.734 1527.57 Q798.947 1529.47 796.841 1532.07 Q796.262 1532.74 793.16 1535.95 Q790.058 1539.15 784.41 1544.91 Z\" fill=\"#000000\" fill-rule=\"nonzero\" fill-opacity=\"1\" /><path clip-path=\"url(#clip650)\" d=\"M980.296 1532.02 L1009.97 1532.02 L1009.97 1535.95 L980.296 1535.95 L980.296 1532.02 Z\" fill=\"#000000\" fill-rule=\"nonzero\" fill-opacity=\"1\" /><path clip-path=\"url(#clip650)\" d=\"M1020.87 1544.91 L1028.51 1544.91 L1028.51 1518.55 L1020.2 1520.21 L1020.2 1515.95 L1028.47 1514.29 L1033.14 1514.29 L1033.14 1544.91 L1040.78 1544.91 L1040.78 1548.85 L1020.87 1548.85 L1020.87 1544.91 Z\" fill=\"#000000\" fill-rule=\"nonzero\" fill-opacity=\"1\" /><path clip-path=\"url(#clip650)\" d=\"M1250.41 1517.37 Q1246.8 1517.37 1244.97 1520.93 Q1243.16 1524.47 1243.16 1531.6 Q1243.16 1538.71 1244.97 1542.27 Q1246.8 1545.82 1250.41 1545.82 Q1254.04 1545.82 1255.85 1542.27 Q1257.67 1538.71 1257.67 1531.6 Q1257.67 1524.47 1255.85 1520.93 Q1254.04 1517.37 1250.41 1517.37 M1250.41 1513.66 Q1256.22 1513.66 1259.27 1518.27 Q1262.35 1522.85 1262.35 1531.6 Q1262.35 1540.33 1259.27 1544.94 Q1256.22 1549.52 1250.41 1549.52 Q1244.6 1549.52 1241.52 1544.94 Q1238.46 1540.33 1238.46 1531.6 Q1238.46 1522.85 1241.52 1518.27 Q1244.6 1513.66 1250.41 1513.66 Z\" fill=\"#000000\" fill-rule=\"nonzero\" fill-opacity=\"1\" /><path clip-path=\"url(#clip650)\" d=\"M1480.66 1544.91 L1488.29 1544.91 L1488.29 1518.55 L1479.98 1520.21 L1479.98 1515.95 L1488.25 1514.29 L1492.92 1514.29 L1492.92 1544.91 L1500.56 1544.91 L1500.56 1548.85 L1480.66 1548.85 L1480.66 1544.91 Z\" fill=\"#000000\" fill-rule=\"nonzero\" fill-opacity=\"1\" /><path clip-path=\"url(#clip650)\" d=\"M1724.79 1544.91 L1741.11 1544.91 L1741.11 1548.85 L1719.17 1548.85 L1719.17 1544.91 Q1721.83 1542.16 1726.41 1537.53 Q1731.02 1532.88 1732.2 1531.53 Q1734.45 1529.01 1735.33 1527.27 Q1736.23 1525.51 1736.23 1523.82 Q1736.23 1521.07 1734.28 1519.33 Q1732.36 1517.6 1729.26 1517.6 Q1727.06 1517.6 1724.61 1518.36 Q1722.18 1519.13 1719.4 1520.68 L1719.4 1515.95 Q1722.22 1514.82 1724.68 1514.24 Q1727.13 1513.66 1729.17 1513.66 Q1734.54 1513.66 1737.73 1516.35 Q1740.93 1519.03 1740.93 1523.52 Q1740.93 1525.65 1740.12 1527.57 Q1739.33 1529.47 1737.22 1532.07 Q1736.65 1532.74 1733.54 1535.95 Q1730.44 1539.15 1724.79 1544.91 Z\" fill=\"#000000\" fill-rule=\"nonzero\" fill-opacity=\"1\" /><path clip-path=\"url(#clip650)\" d=\"M1974.26 1530.21 Q1977.61 1530.93 1979.49 1533.2 Q1981.39 1535.47 1981.39 1538.8 Q1981.39 1543.92 1977.87 1546.72 Q1974.35 1549.52 1967.87 1549.52 Q1965.69 1549.52 1963.38 1549.08 Q1961.08 1548.66 1958.63 1547.81 L1958.63 1543.29 Q1960.58 1544.43 1962.89 1545.01 Q1965.2 1545.58 1967.73 1545.58 Q1972.13 1545.58 1974.42 1543.85 Q1976.73 1542.11 1976.73 1538.8 Q1976.73 1535.75 1974.58 1534.03 Q1972.45 1532.3 1968.63 1532.3 L1964.6 1532.3 L1964.6 1528.45 L1968.82 1528.45 Q1972.27 1528.45 1974.09 1527.09 Q1975.92 1525.7 1975.92 1523.11 Q1975.92 1520.45 1974.02 1519.03 Q1972.15 1517.6 1968.63 1517.6 Q1966.71 1517.6 1964.51 1518.01 Q1962.31 1518.43 1959.67 1519.31 L1959.67 1515.14 Q1962.33 1514.4 1964.65 1514.03 Q1966.99 1513.66 1969.05 1513.66 Q1974.37 1513.66 1977.47 1516.09 Q1980.58 1518.5 1980.58 1522.62 Q1980.58 1525.49 1978.93 1527.48 Q1977.29 1529.45 1974.26 1530.21 Z\" fill=\"#000000\" fill-rule=\"nonzero\" fill-opacity=\"1\" /><polyline clip-path=\"url(#clip650)\" style=\"stroke:#000000; stroke-linecap:round; stroke-linejoin:round; stroke-width:4; stroke-opacity:1; fill:none\" points=\"530.804,1486.45 530.804,47.2441 \"/>\n",
       "<polyline clip-path=\"url(#clip650)\" style=\"stroke:#000000; stroke-linecap:round; stroke-linejoin:round; stroke-width:4; stroke-opacity:1; fill:none\" points=\"530.804,1486.45 543.141,1486.45 \"/>\n",
       "<polyline clip-path=\"url(#clip650)\" style=\"stroke:#000000; stroke-linecap:round; stroke-linejoin:round; stroke-width:4; stroke-opacity:1; fill:none\" points=\"530.804,1246.58 543.141,1246.58 \"/>\n",
       "<polyline clip-path=\"url(#clip650)\" style=\"stroke:#000000; stroke-linecap:round; stroke-linejoin:round; stroke-width:4; stroke-opacity:1; fill:none\" points=\"530.804,1006.71 543.141,1006.71 \"/>\n",
       "<polyline clip-path=\"url(#clip650)\" style=\"stroke:#000000; stroke-linecap:round; stroke-linejoin:round; stroke-width:4; stroke-opacity:1; fill:none\" points=\"530.804,766.846 543.141,766.846 \"/>\n",
       "<polyline clip-path=\"url(#clip650)\" style=\"stroke:#000000; stroke-linecap:round; stroke-linejoin:round; stroke-width:4; stroke-opacity:1; fill:none\" points=\"530.804,526.979 543.141,526.979 \"/>\n",
       "<polyline clip-path=\"url(#clip650)\" style=\"stroke:#000000; stroke-linecap:round; stroke-linejoin:round; stroke-width:4; stroke-opacity:1; fill:none\" points=\"530.804,287.111 543.141,287.111 \"/>\n",
       "<polyline clip-path=\"url(#clip650)\" style=\"stroke:#000000; stroke-linecap:round; stroke-linejoin:round; stroke-width:4; stroke-opacity:1; fill:none\" points=\"530.804,47.2441 543.141,47.2441 \"/>\n",
       "<path clip-path=\"url(#clip650)\" d=\"M433.74 1486.9 L463.416 1486.9 L463.416 1490.83 L433.74 1490.83 L433.74 1486.9 Z\" fill=\"#000000\" fill-rule=\"nonzero\" fill-opacity=\"1\" /><path clip-path=\"url(#clip650)\" d=\"M487.675 1485.09 Q491.031 1485.81 492.906 1488.08 Q494.804 1490.35 494.804 1493.68 Q494.804 1498.8 491.286 1501.6 Q487.767 1504.4 481.286 1504.4 Q479.11 1504.4 476.795 1503.96 Q474.504 1503.54 472.05 1502.69 L472.05 1498.17 Q473.994 1499.31 476.309 1499.89 Q478.624 1500.46 481.147 1500.46 Q485.545 1500.46 487.837 1498.73 Q490.152 1496.99 490.152 1493.68 Q490.152 1490.63 487.999 1488.91 Q485.869 1487.18 482.05 1487.18 L478.022 1487.18 L478.022 1483.33 L482.235 1483.33 Q485.684 1483.33 487.513 1481.97 Q489.341 1480.58 489.341 1477.99 Q489.341 1475.33 487.443 1473.91 Q485.568 1472.48 482.05 1472.48 Q480.129 1472.48 477.929 1472.89 Q475.73 1473.31 473.092 1474.19 L473.092 1470.02 Q475.754 1469.28 478.068 1468.91 Q480.406 1468.54 482.466 1468.54 Q487.791 1468.54 490.892 1470.97 Q493.994 1473.38 493.994 1477.5 Q493.994 1480.37 492.351 1482.36 Q490.707 1484.33 487.675 1485.09 Z\" fill=\"#000000\" fill-rule=\"nonzero\" fill-opacity=\"1\" /><path clip-path=\"url(#clip650)\" d=\"M434.689 1247.03 L464.365 1247.03 L464.365 1250.97 L434.689 1250.97 L434.689 1247.03 Z\" fill=\"#000000\" fill-rule=\"nonzero\" fill-opacity=\"1\" /><path clip-path=\"url(#clip650)\" d=\"M478.485 1259.93 L494.804 1259.93 L494.804 1263.86 L472.86 1263.86 L472.86 1259.93 Q475.522 1257.17 480.105 1252.54 Q484.712 1247.89 485.892 1246.55 Q488.138 1244.02 489.017 1242.29 Q489.92 1240.53 489.92 1238.84 Q489.92 1236.08 487.976 1234.35 Q486.054 1232.61 482.953 1232.61 Q480.754 1232.61 478.3 1233.37 Q475.869 1234.14 473.092 1235.69 L473.092 1230.97 Q475.916 1229.83 478.369 1229.25 Q480.823 1228.68 482.86 1228.68 Q488.23 1228.68 491.425 1231.36 Q494.619 1234.05 494.619 1238.54 Q494.619 1240.67 493.809 1242.59 Q493.022 1244.49 490.916 1247.08 Q490.337 1247.75 487.235 1250.97 Q484.133 1254.16 478.485 1259.93 Z\" fill=\"#000000\" fill-rule=\"nonzero\" fill-opacity=\"1\" /><path clip-path=\"url(#clip650)\" d=\"M434.319 1007.16 L463.994 1007.16 L463.994 1011.1 L434.319 1011.1 L434.319 1007.16 Z\" fill=\"#000000\" fill-rule=\"nonzero\" fill-opacity=\"1\" /><path clip-path=\"url(#clip650)\" d=\"M474.897 1020.06 L482.536 1020.06 L482.536 993.693 L474.226 995.359 L474.226 991.1 L482.49 989.433 L487.166 989.433 L487.166 1020.06 L494.804 1020.06 L494.804 1023.99 L474.897 1023.99 L474.897 1020.06 Z\" fill=\"#000000\" fill-rule=\"nonzero\" fill-opacity=\"1\" /><path clip-path=\"url(#clip650)\" d=\"M482.86 752.645 Q479.249 752.645 477.42 756.209 Q475.615 759.751 475.615 766.881 Q475.615 773.987 477.42 777.552 Q479.249 781.094 482.86 781.094 Q486.494 781.094 488.3 777.552 Q490.128 773.987 490.128 766.881 Q490.128 759.751 488.3 756.209 Q486.494 752.645 482.86 752.645 M482.86 748.941 Q488.67 748.941 491.726 753.547 Q494.804 758.131 494.804 766.881 Q494.804 775.608 491.726 780.214 Q488.67 784.797 482.86 784.797 Q477.05 784.797 473.971 780.214 Q470.916 775.608 470.916 766.881 Q470.916 758.131 473.971 753.547 Q477.05 748.941 482.86 748.941 Z\" fill=\"#000000\" fill-rule=\"nonzero\" fill-opacity=\"1\" /><path clip-path=\"url(#clip650)\" d=\"M474.897 540.324 L482.536 540.324 L482.536 513.958 L474.226 515.625 L474.226 511.365 L482.49 509.699 L487.166 509.699 L487.166 540.324 L494.804 540.324 L494.804 544.259 L474.897 544.259 L474.897 540.324 Z\" fill=\"#000000\" fill-rule=\"nonzero\" fill-opacity=\"1\" /><path clip-path=\"url(#clip650)\" d=\"M478.485 300.456 L494.804 300.456 L494.804 304.391 L472.86 304.391 L472.86 300.456 Q475.522 297.702 480.105 293.072 Q484.712 288.419 485.892 287.077 Q488.138 284.554 489.017 282.817 Q489.92 281.058 489.92 279.368 Q489.92 276.614 487.976 274.878 Q486.054 273.142 482.953 273.142 Q480.754 273.142 478.3 273.905 Q475.869 274.669 473.092 276.22 L473.092 271.498 Q475.916 270.364 478.369 269.785 Q480.823 269.206 482.86 269.206 Q488.23 269.206 491.425 271.892 Q494.619 274.577 494.619 279.067 Q494.619 281.197 493.809 283.118 Q493.022 285.016 490.916 287.609 Q490.337 288.28 487.235 291.498 Q484.133 294.692 478.485 300.456 Z\" fill=\"#000000\" fill-rule=\"nonzero\" fill-opacity=\"1\" /><path clip-path=\"url(#clip650)\" d=\"M487.675 45.8899 Q491.031 46.6075 492.906 48.876 Q494.804 51.1445 494.804 54.4779 Q494.804 59.5936 491.286 62.3945 Q487.767 65.1954 481.286 65.1954 Q479.11 65.1954 476.795 64.7556 Q474.504 64.3389 472.05 63.4824 L472.05 58.9686 Q473.994 60.1028 476.309 60.6815 Q478.624 61.2602 481.147 61.2602 Q485.545 61.2602 487.837 59.5241 Q490.152 57.788 490.152 54.4779 Q490.152 51.4223 487.999 49.7094 Q485.869 47.9733 482.05 47.9733 L478.022 47.9733 L478.022 44.1307 L482.235 44.1307 Q485.684 44.1307 487.513 42.765 Q489.341 41.3761 489.341 38.7835 Q489.341 36.1215 487.443 34.7094 Q485.568 33.2743 482.05 33.2743 Q480.129 33.2743 477.929 33.6909 Q475.73 34.1076 473.092 34.9872 L473.092 30.8206 Q475.754 30.0798 478.068 29.7095 Q480.406 29.3391 482.466 29.3391 Q487.791 29.3391 490.892 31.7696 Q493.994 34.177 493.994 38.2974 Q493.994 41.1677 492.351 43.1585 Q490.707 45.1261 487.675 45.8899 Z\" fill=\"#000000\" fill-rule=\"nonzero\" fill-opacity=\"1\" /><path clip-path=\"url(#clip652)\" d=\"M1490.27 766.846 L1489.14 762.179 L1486.37 758.223 L1482.79 754.958 L1478.81 752.195 L1474.61 749.793 L1470.26 747.661 L1465.81 745.739 L1461.29 743.987 L1456.72 742.375 L1452.11 740.883 L1447.47 739.494 L1442.8 738.196 L1438.11 736.977 L1433.4 735.831 L1428.68 734.749 L1423.94 733.727 L1419.19 732.76 L1414.44 731.843 L1409.67 730.973 L1404.89 730.147 L1400.11 729.363 L1395.32 728.618 L1390.53 727.909 L1385.73 727.236 L1380.93 726.596 L1376.12 725.989 L1371.31 725.412 L1366.49 724.865 L1361.68 724.346 L1356.85 723.855 L1352.03 723.391 L1347.21 722.952 L1342.38 722.539 L1337.55 722.15 L1332.72 721.785 L1327.88 721.444 L1323.05 721.125 L1318.21 720.829 L1313.37 720.555 L1308.53 720.302 L1303.69 720.071 L1298.85 719.861 L1294.01 719.672 L1289.17 719.503 L1284.32 719.354 L1279.48 719.226 L1274.63 719.118 L1269.79 719.029 L1264.94 718.961 L1260.1 718.912 L1255.25 718.882 L1250.41 718.873 L1245.56 718.882 L1240.71 718.912 L1235.87 718.961 L1231.02 719.029 L1226.18 719.118 L1221.33 719.226 L1216.49 719.354 L1211.65 719.503 L1206.8 719.672 L1201.96 719.861 L1197.12 720.071 L1192.28 720.302 L1187.44 720.555 L1182.6 720.829 L1177.77 721.125 L1172.93 721.444 L1168.1 721.785 L1163.27 722.15 L1158.44 722.539 L1153.61 722.952 L1148.78 723.391 L1143.96 723.855 L1139.14 724.346 L1134.32 724.865 L1129.5 725.412 L1124.69 725.989 L1119.89 726.596 L1115.08 727.236 L1110.28 727.909 L1105.49 728.618 L1100.7 729.363 L1095.92 730.147 L1091.14 730.973 L1086.38 731.843 L1081.62 732.76 L1076.87 733.727 L1072.13 734.749 L1067.41 735.831 L1062.7 736.977 L1058.01 738.196 L1053.34 739.494 L1048.7 740.883 L1044.09 742.375 L1039.52 743.987 L1035 745.739 L1030.56 747.661 L1026.21 749.793 L1022 752.195 L1018.02 754.958 L1014.45 758.223 L1011.68 762.179 L1010.54 766.846 L1011.68 771.513 L1014.45 775.469 L1018.02 778.734 L1022 781.497 L1026.21 783.899 L1030.56 786.031 L1035 787.953 L1039.52 789.705 L1044.09 791.317 L1048.7 792.809 L1053.34 794.198 L1058.01 795.496 L1062.7 796.715 L1067.41 797.861 L1072.13 798.943 L1076.87 799.965 L1081.62 800.932 L1086.38 801.849 L1091.14 802.719 L1095.92 803.545 L1100.7 804.329 L1105.49 805.074 L1110.28 805.783 L1115.08 806.456 L1119.89 807.095 L1124.69 807.703 L1129.5 808.28 L1134.32 808.827 L1139.14 809.346 L1143.96 809.837 L1148.78 810.301 L1153.61 810.74 L1158.44 811.153 L1163.27 811.542 L1168.1 811.907 L1172.93 812.248 L1177.77 812.567 L1182.6 812.863 L1187.44 813.137 L1192.28 813.39 L1197.12 813.621 L1201.96 813.831 L1206.8 814.02 L1211.65 814.189 L1216.49 814.337 L1221.33 814.466 L1226.18 814.574 L1231.02 814.663 L1235.87 814.731 L1240.71 814.78 L1245.56 814.81 L1250.41 814.819 L1255.25 814.81 L1260.1 814.78 L1264.94 814.731 L1269.79 814.663 L1274.63 814.574 L1279.48 814.466 L1284.32 814.337 L1289.17 814.189 L1294.01 814.02 L1298.85 813.831 L1303.69 813.621 L1308.53 813.39 L1313.37 813.137 L1318.21 812.863 L1323.05 812.567 L1327.88 812.248 L1332.72 811.907 L1337.55 811.542 L1342.38 811.153 L1347.21 810.74 L1352.03 810.301 L1356.85 809.837 L1361.68 809.346 L1366.49 808.827 L1371.31 808.28 L1376.12 807.703 L1380.93 807.095 L1385.73 806.456 L1390.53 805.783 L1395.32 805.074 L1400.11 804.329 L1404.89 803.545 L1409.67 802.719 L1414.44 801.849 L1419.19 800.932 L1423.94 799.965 L1428.68 798.943 L1433.4 797.861 L1438.11 796.715 L1442.8 795.496 L1447.47 794.198 L1452.11 792.809 L1456.72 791.317 L1461.29 789.705 L1465.81 787.953 L1470.26 786.031 L1474.61 783.899 L1478.81 781.497 L1482.79 778.734 L1486.37 775.469 L1489.14 771.513 L1490.27 766.846 L1490.27 766.846 L1489.14 766.846 L1486.37 766.846 L1482.79 766.846 L1478.81 766.846 L1474.61 766.846 L1470.26 766.846 L1465.81 766.846 L1461.29 766.846 L1456.72 766.846 L1452.11 766.846 L1447.47 766.846 L1442.8 766.846 L1438.11 766.846 L1433.4 766.846 L1428.68 766.846 L1423.94 766.846 L1419.19 766.846 L1414.44 766.846 L1409.67 766.846 L1404.89 766.846 L1400.11 766.846 L1395.32 766.846 L1390.53 766.846 L1385.73 766.846 L1380.93 766.846 L1376.12 766.846 L1371.31 766.846 L1366.49 766.846 L1361.68 766.846 L1356.85 766.846 L1352.03 766.846 L1347.21 766.846 L1342.38 766.846 L1337.55 766.846 L1332.72 766.846 L1327.88 766.846 L1323.05 766.846 L1318.21 766.846 L1313.37 766.846 L1308.53 766.846 L1303.69 766.846 L1298.85 766.846 L1294.01 766.846 L1289.17 766.846 L1284.32 766.846 L1279.48 766.846 L1274.63 766.846 L1269.79 766.846 L1264.94 766.846 L1260.1 766.846 L1255.25 766.846 L1250.41 766.846 L1245.56 766.846 L1240.71 766.846 L1235.87 766.846 L1231.02 766.846 L1226.18 766.846 L1221.33 766.846 L1216.49 766.846 L1211.65 766.846 L1206.8 766.846 L1201.96 766.846 L1197.12 766.846 L1192.28 766.846 L1187.44 766.846 L1182.6 766.846 L1177.77 766.846 L1172.93 766.846 L1168.1 766.846 L1163.27 766.846 L1158.44 766.846 L1153.61 766.846 L1148.78 766.846 L1143.96 766.846 L1139.14 766.846 L1134.32 766.846 L1129.5 766.846 L1124.69 766.846 L1119.89 766.846 L1115.08 766.846 L1110.28 766.846 L1105.49 766.846 L1100.7 766.846 L1095.92 766.846 L1091.14 766.846 L1086.38 766.846 L1081.62 766.846 L1076.87 766.846 L1072.13 766.846 L1067.41 766.846 L1062.7 766.846 L1058.01 766.846 L1053.34 766.846 L1048.7 766.846 L1044.09 766.846 L1039.52 766.846 L1035 766.846 L1030.56 766.846 L1026.21 766.846 L1022 766.846 L1018.02 766.846 L1014.45 766.846 L1011.68 766.846 L1010.54 766.846 L1011.68 766.846 L1014.45 766.846 L1018.02 766.846 L1022 766.846 L1026.21 766.846 L1030.56 766.846 L1035 766.846 L1039.52 766.846 L1044.09 766.846 L1048.7 766.846 L1053.34 766.846 L1058.01 766.846 L1062.7 766.846 L1067.41 766.846 L1072.13 766.846 L1076.87 766.846 L1081.62 766.846 L1086.38 766.846 L1091.14 766.846 L1095.92 766.846 L1100.7 766.846 L1105.49 766.846 L1110.28 766.846 L1115.08 766.846 L1119.89 766.846 L1124.69 766.846 L1129.5 766.846 L1134.32 766.846 L1139.14 766.846 L1143.96 766.846 L1148.78 766.846 L1153.61 766.846 L1158.44 766.846 L1163.27 766.846 L1168.1 766.846 L1172.93 766.846 L1177.77 766.846 L1182.6 766.846 L1187.44 766.846 L1192.28 766.846 L1197.12 766.846 L1201.96 766.846 L1206.8 766.846 L1211.65 766.846 L1216.49 766.846 L1221.33 766.846 L1226.18 766.846 L1231.02 766.846 L1235.87 766.846 L1240.71 766.846 L1245.56 766.846 L1250.41 766.846 L1255.25 766.846 L1260.1 766.846 L1264.94 766.846 L1269.79 766.846 L1274.63 766.846 L1279.48 766.846 L1284.32 766.846 L1289.17 766.846 L1294.01 766.846 L1298.85 766.846 L1303.69 766.846 L1308.53 766.846 L1313.37 766.846 L1318.21 766.846 L1323.05 766.846 L1327.88 766.846 L1332.72 766.846 L1337.55 766.846 L1342.38 766.846 L1347.21 766.846 L1352.03 766.846 L1356.85 766.846 L1361.68 766.846 L1366.49 766.846 L1371.31 766.846 L1376.12 766.846 L1380.93 766.846 L1385.73 766.846 L1390.53 766.846 L1395.32 766.846 L1400.11 766.846 L1404.89 766.846 L1409.67 766.846 L1414.44 766.846 L1419.19 766.846 L1423.94 766.846 L1428.68 766.846 L1433.4 766.846 L1438.11 766.846 L1442.8 766.846 L1447.47 766.846 L1452.11 766.846 L1456.72 766.846 L1461.29 766.846 L1465.81 766.846 L1470.26 766.846 L1474.61 766.846 L1478.81 766.846 L1482.79 766.846 L1486.37 766.846 L1489.14 766.846 L1490.27 766.846  Z\" fill=\"#808080\" fill-rule=\"evenodd\" fill-opacity=\"1\"/>\n",
       "<polyline clip-path=\"url(#clip652)\" style=\"stroke:#97b476; stroke-linecap:round; stroke-linejoin:round; stroke-width:4; stroke-opacity:1; fill:none\" points=\"1490.27,766.846 1489.14,762.179 1486.37,758.223 1482.79,754.958 1478.81,752.195 1474.61,749.793 1470.26,747.661 1465.81,745.739 1461.29,743.987 1456.72,742.375 1452.11,740.883 1447.47,739.494 1442.8,738.196 1438.11,736.977 1433.4,735.831 1428.68,734.749 1423.94,733.727 1419.19,732.76 1414.44,731.843 1409.67,730.973 1404.89,730.147 1400.11,729.363 1395.32,728.618 1390.53,727.909 1385.73,727.236 1380.93,726.596 1376.12,725.989 1371.31,725.412 1366.49,724.865 1361.68,724.346 1356.85,723.855 1352.03,723.391 1347.21,722.952 1342.38,722.539 1337.55,722.15 1332.72,721.785 1327.88,721.444 1323.05,721.125 1318.21,720.829 1313.37,720.555 1308.53,720.302 1303.69,720.071 1298.85,719.861 1294.01,719.672 1289.17,719.503 1284.32,719.354 1279.48,719.226 1274.63,719.118 1269.79,719.029 1264.94,718.961 1260.1,718.912 1255.25,718.882 1250.41,718.873 1245.56,718.882 1240.71,718.912 1235.87,718.961 1231.02,719.029 1226.18,719.118 1221.33,719.226 1216.49,719.354 1211.65,719.503 1206.8,719.672 1201.96,719.861 1197.12,720.071 1192.28,720.302 1187.44,720.555 1182.6,720.829 1177.77,721.125 1172.93,721.444 1168.1,721.785 1163.27,722.15 1158.44,722.539 1153.61,722.952 1148.78,723.391 1143.96,723.855 1139.14,724.346 1134.32,724.865 1129.5,725.412 1124.69,725.989 1119.89,726.596 1115.08,727.236 1110.28,727.909 1105.49,728.618 1100.7,729.363 1095.92,730.147 1091.14,730.973 1086.38,731.843 1081.62,732.76 1076.87,733.727 1072.13,734.749 1067.41,735.831 1062.7,736.977 1058.01,738.196 1053.34,739.494 1048.7,740.883 1044.09,742.375 1039.52,743.987 1035,745.739 1030.56,747.661 1026.21,749.793 1022,752.195 1018.02,754.958 1014.45,758.223 1011.68,762.179 1010.54,766.846 1011.68,771.513 1014.45,775.469 1018.02,778.734 1022,781.497 1026.21,783.899 1030.56,786.031 1035,787.953 1039.52,789.705 1044.09,791.317 1048.7,792.809 1053.34,794.198 1058.01,795.496 1062.7,796.715 1067.41,797.861 1072.13,798.943 1076.87,799.965 1081.62,800.932 1086.38,801.849 1091.14,802.719 1095.92,803.545 1100.7,804.329 1105.49,805.074 1110.28,805.783 1115.08,806.456 1119.89,807.095 1124.69,807.703 1129.5,808.28 1134.32,808.827 1139.14,809.346 1143.96,809.837 1148.78,810.301 1153.61,810.74 1158.44,811.153 1163.27,811.542 1168.1,811.907 1172.93,812.248 1177.77,812.567 1182.6,812.863 1187.44,813.137 1192.28,813.39 1197.12,813.621 1201.96,813.831 1206.8,814.02 1211.65,814.189 1216.49,814.337 1221.33,814.466 1226.18,814.574 1231.02,814.663 1235.87,814.731 1240.71,814.78 1245.56,814.81 1250.41,814.819 1255.25,814.81 1260.1,814.78 1264.94,814.731 1269.79,814.663 1274.63,814.574 1279.48,814.466 1284.32,814.337 1289.17,814.189 1294.01,814.02 1298.85,813.831 1303.69,813.621 1308.53,813.39 1313.37,813.137 1318.21,812.863 1323.05,812.567 1327.88,812.248 1332.72,811.907 1337.55,811.542 1342.38,811.153 1347.21,810.74 1352.03,810.301 1356.85,809.837 1361.68,809.346 1366.49,808.827 1371.31,808.28 1376.12,807.703 1380.93,807.095 1385.73,806.456 1390.53,805.783 1395.32,805.074 1400.11,804.329 1404.89,803.545 1409.67,802.719 1414.44,801.849 1419.19,800.932 1423.94,799.965 1428.68,798.943 1433.4,797.861 1438.11,796.715 1442.8,795.496 1447.47,794.198 1452.11,792.809 1456.72,791.317 1461.29,789.705 1465.81,787.953 1470.26,786.031 1474.61,783.899 1478.81,781.497 1482.79,778.734 1486.37,775.469 1489.14,771.513 1490.27,766.846 \"/>\n",
       "<path clip-path=\"url(#clip652)\" d=\"M1817.94 287.111 L1814.62 283.639 L1810.24 281.597 L1805.52 280.557 L1800.69 280.153 L1795.84 280.176 L1791.01 280.505 L1786.2 281.064 L1781.41 281.806 L1776.65 282.695 L1771.91 283.708 L1767.19 284.827 L1762.5 286.036 L1757.83 287.326 L1753.18 288.687 L1748.55 290.112 L1743.93 291.595 L1739.34 293.132 L1734.76 294.717 L1730.2 296.347 L1725.65 298.019 L1721.11 299.731 L1716.59 301.48 L1712.09 303.263 L1707.6 305.08 L1703.12 306.927 L1698.65 308.805 L1694.19 310.711 L1689.75 312.645 L1685.32 314.605 L1680.9 316.59 L1676.49 318.599 L1672.09 320.632 L1667.7 322.689 L1663.33 324.767 L1658.96 326.867 L1654.6 328.988 L1650.25 331.13 L1645.92 333.292 L1641.59 335.473 L1637.27 337.674 L1632.97 339.894 L1628.67 342.133 L1624.38 344.39 L1620.1 346.665 L1615.83 348.958 L1611.57 351.269 L1607.32 353.598 L1603.08 355.944 L1598.85 358.307 L1594.63 360.687 L1590.42 363.084 L1586.22 365.499 L1582.03 367.93 L1577.85 370.378 L1573.68 372.844 L1569.51 375.326 L1565.36 377.825 L1561.22 380.341 L1557.09 382.874 L1552.97 385.425 L1548.86 387.992 L1544.76 390.577 L1540.67 393.18 L1536.6 395.8 L1532.53 398.438 L1528.48 401.095 L1524.44 403.77 L1520.41 406.463 L1516.4 409.176 L1512.39 411.908 L1508.4 414.66 L1504.43 417.432 L1500.47 420.224 L1496.52 423.038 L1492.6 425.874 L1488.68 428.732 L1484.79 431.613 L1480.91 434.519 L1477.05 437.448 L1473.21 440.404 L1469.39 443.386 L1465.59 446.397 L1461.82 449.436 L1458.07 452.506 L1454.35 455.609 L1450.65 458.746 L1446.99 461.919 L1443.36 465.131 L1439.77 468.384 L1436.22 471.683 L1432.72 475.03 L1429.26 478.43 L1425.87 481.889 L1422.54 485.413 L1419.3 489.01 L1416.15 492.691 L1413.11 496.467 L1410.22 500.355 L1407.52 504.377 L1405.07 508.561 L1403.01 512.943 L1401.55 517.557 L1401.13 522.368 L1402.48 526.979 L1405.79 530.451 L1410.17 532.493 L1414.9 533.533 L1419.73 533.937 L1424.57 533.914 L1429.4 533.585 L1434.22 533.026 L1439.01 532.284 L1443.77 531.395 L1448.51 530.382 L1453.22 529.263 L1457.91 528.054 L1462.59 526.764 L1467.24 525.403 L1471.87 523.978 L1476.48 522.495 L1481.08 520.958 L1485.66 519.373 L1490.22 517.743 L1494.77 516.071 L1499.3 514.359 L1503.82 512.61 L1508.33 510.827 L1512.82 509.01 L1517.3 507.163 L1521.76 505.285 L1526.22 503.379 L1530.66 501.445 L1535.09 499.486 L1539.52 497.5 L1543.92 495.491 L1548.32 493.458 L1552.71 491.402 L1557.09 489.323 L1561.46 487.223 L1565.81 485.102 L1570.16 482.96 L1574.5 480.798 L1578.82 478.617 L1583.14 476.416 L1587.45 474.196 L1591.75 471.957 L1596.03 469.7 L1600.31 467.425 L1604.58 465.132 L1608.84 462.821 L1613.09 460.492 L1617.33 458.147 L1621.56 455.783 L1625.78 453.403 L1629.99 451.006 L1634.19 448.591 L1638.39 446.16 L1642.57 443.712 L1646.74 441.246 L1650.9 438.764 L1655.05 436.265 L1659.19 433.749 L1663.33 431.216 L1667.45 428.666 L1671.56 426.098 L1675.65 423.513 L1679.74 420.91 L1683.82 418.29 L1687.88 415.652 L1691.93 412.995 L1695.98 410.32 L1700 407.627 L1704.02 404.914 L1708.02 402.182 L1712.01 399.43 L1715.98 396.658 L1719.94 393.866 L1723.89 391.052 L1727.82 388.216 L1731.73 385.358 L1735.63 382.477 L1739.51 379.572 L1743.37 376.642 L1747.21 373.686 L1751.03 370.704 L1754.82 367.693 L1758.6 364.654 L1762.35 361.584 L1766.07 358.481 L1769.76 355.344 L1773.42 352.171 L1777.05 348.959 L1780.64 345.706 L1784.19 342.407 L1787.7 339.06 L1791.15 335.66 L1794.54 332.201 L1797.87 328.677 L1801.12 325.08 L1804.27 321.399 L1807.3 317.623 L1810.2 313.735 L1812.9 309.713 L1815.34 305.529 L1817.4 301.147 L1818.87 296.533 L1819.29 291.722 L1817.94 287.111 L1817.94 766.846 L1819.29 766.846 L1818.87 766.846 L1817.4 766.846 L1815.34 766.846 L1812.9 766.846 L1810.2 766.846 L1807.3 766.846 L1804.27 766.846 L1801.12 766.846 L1797.87 766.846 L1794.54 766.846 L1791.15 766.846 L1787.7 766.846 L1784.19 766.846 L1780.64 766.846 L1777.05 766.846 L1773.42 766.846 L1769.76 766.846 L1766.07 766.846 L1762.35 766.846 L1758.6 766.846 L1754.82 766.846 L1751.03 766.846 L1747.21 766.846 L1743.37 766.846 L1739.51 766.846 L1735.63 766.846 L1731.73 766.846 L1727.82 766.846 L1723.89 766.846 L1719.94 766.846 L1715.98 766.846 L1712.01 766.846 L1708.02 766.846 L1704.02 766.846 L1700 766.846 L1695.98 766.846 L1691.93 766.846 L1687.88 766.846 L1683.82 766.846 L1679.74 766.846 L1675.65 766.846 L1671.56 766.846 L1667.45 766.846 L1663.33 766.846 L1659.19 766.846 L1655.05 766.846 L1650.9 766.846 L1646.74 766.846 L1642.57 766.846 L1638.39 766.846 L1634.19 766.846 L1629.99 766.846 L1625.78 766.846 L1621.56 766.846 L1617.33 766.846 L1613.09 766.846 L1608.84 766.846 L1604.58 766.846 L1600.31 766.846 L1596.03 766.846 L1591.75 766.846 L1587.45 766.846 L1583.14 766.846 L1578.82 766.846 L1574.5 766.846 L1570.16 766.846 L1565.81 766.846 L1561.46 766.846 L1557.09 766.846 L1552.71 766.846 L1548.32 766.846 L1543.92 766.846 L1539.52 766.846 L1535.09 766.846 L1530.66 766.846 L1526.22 766.846 L1521.76 766.846 L1517.3 766.846 L1512.82 766.846 L1508.33 766.846 L1503.82 766.846 L1499.3 766.846 L1494.77 766.846 L1490.22 766.846 L1485.66 766.846 L1481.08 766.846 L1476.48 766.846 L1471.87 766.846 L1467.24 766.846 L1462.59 766.846 L1457.91 766.846 L1453.22 766.846 L1448.51 766.846 L1443.77 766.846 L1439.01 766.846 L1434.22 766.846 L1429.4 766.846 L1424.57 766.846 L1419.73 766.846 L1414.9 766.846 L1410.17 766.846 L1405.79 766.846 L1402.48 766.846 L1401.13 766.846 L1401.55 766.846 L1403.01 766.846 L1405.07 766.846 L1407.52 766.846 L1410.22 766.846 L1413.11 766.846 L1416.15 766.846 L1419.3 766.846 L1422.54 766.846 L1425.87 766.846 L1429.26 766.846 L1432.72 766.846 L1436.22 766.846 L1439.77 766.846 L1443.36 766.846 L1446.99 766.846 L1450.65 766.846 L1454.35 766.846 L1458.07 766.846 L1461.82 766.846 L1465.59 766.846 L1469.39 766.846 L1473.21 766.846 L1477.05 766.846 L1480.91 766.846 L1484.79 766.846 L1488.68 766.846 L1492.6 766.846 L1496.52 766.846 L1500.47 766.846 L1504.43 766.846 L1508.4 766.846 L1512.39 766.846 L1516.4 766.846 L1520.41 766.846 L1524.44 766.846 L1528.48 766.846 L1532.53 766.846 L1536.6 766.846 L1540.67 766.846 L1544.76 766.846 L1548.86 766.846 L1552.97 766.846 L1557.09 766.846 L1561.22 766.846 L1565.36 766.846 L1569.51 766.846 L1573.68 766.846 L1577.85 766.846 L1582.03 766.846 L1586.22 766.846 L1590.42 766.846 L1594.63 766.846 L1598.85 766.846 L1603.08 766.846 L1607.32 766.846 L1611.57 766.846 L1615.83 766.846 L1620.1 766.846 L1624.38 766.846 L1628.67 766.846 L1632.97 766.846 L1637.27 766.846 L1641.59 766.846 L1645.92 766.846 L1650.25 766.846 L1654.6 766.846 L1658.96 766.846 L1663.33 766.846 L1667.7 766.846 L1672.09 766.846 L1676.49 766.846 L1680.9 766.846 L1685.32 766.846 L1689.75 766.846 L1694.19 766.846 L1698.65 766.846 L1703.12 766.846 L1707.6 766.846 L1712.09 766.846 L1716.59 766.846 L1721.11 766.846 L1725.65 766.846 L1730.2 766.846 L1734.76 766.846 L1739.34 766.846 L1743.93 766.846 L1748.55 766.846 L1753.18 766.846 L1757.83 766.846 L1762.5 766.846 L1767.19 766.846 L1771.91 766.846 L1776.65 766.846 L1781.41 766.846 L1786.2 766.846 L1791.01 766.846 L1795.84 766.846 L1800.69 766.846 L1805.52 766.846 L1810.24 766.846 L1814.62 766.846 L1817.94 766.846  Z\" fill=\"#97b476\" fill-rule=\"evenodd\" fill-opacity=\"1\"/>\n",
       "<polyline clip-path=\"url(#clip652)\" style=\"stroke:#97b476; stroke-linecap:round; stroke-linejoin:round; stroke-width:4; stroke-opacity:1; fill:none\" points=\"1817.94,287.111 1814.62,283.639 1810.24,281.597 1805.52,280.557 1800.69,280.153 1795.84,280.176 1791.01,280.505 1786.2,281.064 1781.41,281.806 1776.65,282.695 1771.91,283.708 1767.19,284.827 1762.5,286.036 1757.83,287.326 1753.18,288.687 1748.55,290.112 1743.93,291.595 1739.34,293.132 1734.76,294.717 1730.2,296.347 1725.65,298.019 1721.11,299.731 1716.59,301.48 1712.09,303.263 1707.6,305.08 1703.12,306.927 1698.65,308.805 1694.19,310.711 1689.75,312.645 1685.32,314.605 1680.9,316.59 1676.49,318.599 1672.09,320.632 1667.7,322.689 1663.33,324.767 1658.96,326.867 1654.6,328.988 1650.25,331.13 1645.92,333.292 1641.59,335.473 1637.27,337.674 1632.97,339.894 1628.67,342.133 1624.38,344.39 1620.1,346.665 1615.83,348.958 1611.57,351.269 1607.32,353.598 1603.08,355.944 1598.85,358.307 1594.63,360.687 1590.42,363.084 1586.22,365.499 1582.03,367.93 1577.85,370.378 1573.68,372.844 1569.51,375.326 1565.36,377.825 1561.22,380.341 1557.09,382.874 1552.97,385.425 1548.86,387.992 1544.76,390.577 1540.67,393.18 1536.6,395.8 1532.53,398.438 1528.48,401.095 1524.44,403.77 1520.41,406.463 1516.4,409.176 1512.39,411.908 1508.4,414.66 1504.43,417.432 1500.47,420.224 1496.52,423.038 1492.6,425.874 1488.68,428.732 1484.79,431.613 1480.91,434.519 1477.05,437.448 1473.21,440.404 1469.39,443.386 1465.59,446.397 1461.82,449.436 1458.07,452.506 1454.35,455.609 1450.65,458.746 1446.99,461.919 1443.36,465.131 1439.77,468.384 1436.22,471.683 1432.72,475.03 1429.26,478.43 1425.87,481.889 1422.54,485.413 1419.3,489.01 1416.15,492.691 1413.11,496.467 1410.22,500.355 1407.52,504.377 1405.07,508.561 1403.01,512.943 1401.55,517.557 1401.13,522.368 1402.48,526.979 1405.79,530.451 1410.17,532.493 1414.9,533.533 1419.73,533.937 1424.57,533.914 1429.4,533.585 1434.22,533.026 1439.01,532.284 1443.77,531.395 1448.51,530.382 1453.22,529.263 1457.91,528.054 1462.59,526.764 1467.24,525.403 1471.87,523.978 1476.48,522.495 1481.08,520.958 1485.66,519.373 1490.22,517.743 1494.77,516.071 1499.3,514.359 1503.82,512.61 1508.33,510.827 1512.82,509.01 1517.3,507.163 1521.76,505.285 1526.22,503.379 1530.66,501.445 1535.09,499.486 1539.52,497.5 1543.92,495.491 1548.32,493.458 1552.71,491.402 1557.09,489.323 1561.46,487.223 1565.81,485.102 1570.16,482.96 1574.5,480.798 1578.82,478.617 1583.14,476.416 1587.45,474.196 1591.75,471.957 1596.03,469.7 1600.31,467.425 1604.58,465.132 1608.84,462.821 1613.09,460.492 1617.33,458.147 1621.56,455.783 1625.78,453.403 1629.99,451.006 1634.19,448.591 1638.39,446.16 1642.57,443.712 1646.74,441.246 1650.9,438.764 1655.05,436.265 1659.19,433.749 1663.33,431.216 1667.45,428.666 1671.56,426.098 1675.65,423.513 1679.74,420.91 1683.82,418.29 1687.88,415.652 1691.93,412.995 1695.98,410.32 1700,407.627 1704.02,404.914 1708.02,402.182 1712.01,399.43 1715.98,396.658 1719.94,393.866 1723.89,391.052 1727.82,388.216 1731.73,385.358 1735.63,382.477 1739.51,379.572 1743.37,376.642 1747.21,373.686 1751.03,370.704 1754.82,367.693 1758.6,364.654 1762.35,361.584 1766.07,358.481 1769.76,355.344 1773.42,352.171 1777.05,348.959 1780.64,345.706 1784.19,342.407 1787.7,339.06 1791.15,335.66 1794.54,332.201 1797.87,328.677 1801.12,325.08 1804.27,321.399 1807.3,317.623 1810.2,313.735 1812.9,309.713 1815.34,305.529 1817.4,301.147 1818.87,296.533 1819.29,291.722 1817.94,287.111 \"/>\n",
       "</svg>\n"
      ],
      "image/svg+xml": [
       "<?xml version=\"1.0\" encoding=\"utf-8\"?>\n",
       "<svg xmlns=\"http://www.w3.org/2000/svg\" xmlns:xlink=\"http://www.w3.org/1999/xlink\" width=\"600\" height=\"400\" viewBox=\"0 0 2400 1600\">\n",
       "<defs>\n",
       "  <clipPath id=\"clip620\">\n",
       "    <rect x=\"0\" y=\"0\" width=\"2400\" height=\"1600\"/>\n",
       "  </clipPath>\n",
       "</defs>\n",
       "<path clip-path=\"url(#clip620)\" d=\"M0 1600 L2400 1600 L2400 0 L0 0  Z\" fill=\"#ffffff\" fill-rule=\"evenodd\" fill-opacity=\"1\"/>\n",
       "<defs>\n",
       "  <clipPath id=\"clip621\">\n",
       "    <rect x=\"480\" y=\"0\" width=\"1681\" height=\"1600\"/>\n",
       "  </clipPath>\n",
       "</defs>\n",
       "<path clip-path=\"url(#clip620)\" d=\"M530.804 1486.45 L1970.01 1486.45 L1970.01 47.2441 L530.804 47.2441  Z\" fill=\"#ffffff\" fill-rule=\"evenodd\" fill-opacity=\"1\"/>\n",
       "<defs>\n",
       "  <clipPath id=\"clip622\">\n",
       "    <rect x=\"530\" y=\"47\" width=\"1440\" height=\"1440\"/>\n",
       "  </clipPath>\n",
       "</defs>\n",
       "<polyline clip-path=\"url(#clip620)\" style=\"stroke:#000000; stroke-linecap:round; stroke-linejoin:round; stroke-width:4; stroke-opacity:1; fill:none\" points=\"530.804,1486.45 1970.01,1486.45 \"/>\n",
       "<polyline clip-path=\"url(#clip620)\" style=\"stroke:#000000; stroke-linecap:round; stroke-linejoin:round; stroke-width:4; stroke-opacity:1; fill:none\" points=\"530.804,1486.45 530.804,1467.55 \"/>\n",
       "<polyline clip-path=\"url(#clip620)\" style=\"stroke:#000000; stroke-linecap:round; stroke-linejoin:round; stroke-width:4; stroke-opacity:1; fill:none\" points=\"770.672,1486.45 770.672,1467.55 \"/>\n",
       "<polyline clip-path=\"url(#clip620)\" style=\"stroke:#000000; stroke-linecap:round; stroke-linejoin:round; stroke-width:4; stroke-opacity:1; fill:none\" points=\"1010.54,1486.45 1010.54,1467.55 \"/>\n",
       "<polyline clip-path=\"url(#clip620)\" style=\"stroke:#000000; stroke-linecap:round; stroke-linejoin:round; stroke-width:4; stroke-opacity:1; fill:none\" points=\"1250.41,1486.45 1250.41,1467.55 \"/>\n",
       "<polyline clip-path=\"url(#clip620)\" style=\"stroke:#000000; stroke-linecap:round; stroke-linejoin:round; stroke-width:4; stroke-opacity:1; fill:none\" points=\"1490.27,1486.45 1490.27,1467.55 \"/>\n",
       "<polyline clip-path=\"url(#clip620)\" style=\"stroke:#000000; stroke-linecap:round; stroke-linejoin:round; stroke-width:4; stroke-opacity:1; fill:none\" points=\"1730.14,1486.45 1730.14,1467.55 \"/>\n",
       "<polyline clip-path=\"url(#clip620)\" style=\"stroke:#000000; stroke-linecap:round; stroke-linejoin:round; stroke-width:4; stroke-opacity:1; fill:none\" points=\"1970.01,1486.45 1970.01,1467.55 \"/>\n",
       "<path clip-path=\"url(#clip620)\" d=\"M500.272 1532.02 L529.948 1532.02 L529.948 1535.95 L500.272 1535.95 L500.272 1532.02 Z\" fill=\"#000000\" fill-rule=\"nonzero\" fill-opacity=\"1\" /><path clip-path=\"url(#clip620)\" d=\"M554.207 1530.21 Q557.563 1530.93 559.438 1533.2 Q561.337 1535.47 561.337 1538.8 Q561.337 1543.92 557.818 1546.72 Q554.3 1549.52 547.818 1549.52 Q545.642 1549.52 543.327 1549.08 Q541.036 1548.66 538.582 1547.81 L538.582 1543.29 Q540.527 1544.43 542.841 1545.01 Q545.156 1545.58 547.679 1545.58 Q552.077 1545.58 554.369 1543.85 Q556.684 1542.11 556.684 1538.8 Q556.684 1535.75 554.531 1534.03 Q552.401 1532.3 548.582 1532.3 L544.554 1532.3 L544.554 1528.45 L548.767 1528.45 Q552.216 1528.45 554.045 1527.09 Q555.874 1525.7 555.874 1523.11 Q555.874 1520.45 553.976 1519.03 Q552.101 1517.6 548.582 1517.6 Q546.661 1517.6 544.462 1518.01 Q542.263 1518.43 539.624 1519.31 L539.624 1515.14 Q542.286 1514.4 544.601 1514.03 Q546.939 1513.66 548.999 1513.66 Q554.323 1513.66 557.425 1516.09 Q560.526 1518.5 560.526 1522.62 Q560.526 1525.49 558.883 1527.48 Q557.239 1529.45 554.207 1530.21 Z\" fill=\"#000000\" fill-rule=\"nonzero\" fill-opacity=\"1\" /><path clip-path=\"url(#clip620)\" d=\"M740.614 1532.02 L770.29 1532.02 L770.29 1535.95 L740.614 1535.95 L740.614 1532.02 Z\" fill=\"#000000\" fill-rule=\"nonzero\" fill-opacity=\"1\" /><path clip-path=\"url(#clip620)\" d=\"M784.41 1544.91 L800.729 1544.91 L800.729 1548.85 L778.785 1548.85 L778.785 1544.91 Q781.447 1542.16 786.03 1537.53 Q790.637 1532.88 791.817 1531.53 Q794.063 1529.01 794.942 1527.27 Q795.845 1525.51 795.845 1523.82 Q795.845 1521.07 793.901 1519.33 Q791.979 1517.6 788.878 1517.6 Q786.679 1517.6 784.225 1518.36 Q781.794 1519.13 779.017 1520.68 L779.017 1515.95 Q781.841 1514.82 784.294 1514.24 Q786.748 1513.66 788.785 1513.66 Q794.155 1513.66 797.35 1516.35 Q800.544 1519.03 800.544 1523.52 Q800.544 1525.65 799.734 1527.57 Q798.947 1529.47 796.841 1532.07 Q796.262 1532.74 793.16 1535.95 Q790.058 1539.15 784.41 1544.91 Z\" fill=\"#000000\" fill-rule=\"nonzero\" fill-opacity=\"1\" /><path clip-path=\"url(#clip620)\" d=\"M980.296 1532.02 L1009.97 1532.02 L1009.97 1535.95 L980.296 1535.95 L980.296 1532.02 Z\" fill=\"#000000\" fill-rule=\"nonzero\" fill-opacity=\"1\" /><path clip-path=\"url(#clip620)\" d=\"M1020.87 1544.91 L1028.51 1544.91 L1028.51 1518.55 L1020.2 1520.21 L1020.2 1515.95 L1028.47 1514.29 L1033.14 1514.29 L1033.14 1544.91 L1040.78 1544.91 L1040.78 1548.85 L1020.87 1548.85 L1020.87 1544.91 Z\" fill=\"#000000\" fill-rule=\"nonzero\" fill-opacity=\"1\" /><path clip-path=\"url(#clip620)\" d=\"M1250.41 1517.37 Q1246.8 1517.37 1244.97 1520.93 Q1243.16 1524.47 1243.16 1531.6 Q1243.16 1538.71 1244.97 1542.27 Q1246.8 1545.82 1250.41 1545.82 Q1254.04 1545.82 1255.85 1542.27 Q1257.67 1538.71 1257.67 1531.6 Q1257.67 1524.47 1255.85 1520.93 Q1254.04 1517.37 1250.41 1517.37 M1250.41 1513.66 Q1256.22 1513.66 1259.27 1518.27 Q1262.35 1522.85 1262.35 1531.6 Q1262.35 1540.33 1259.27 1544.94 Q1256.22 1549.52 1250.41 1549.52 Q1244.6 1549.52 1241.52 1544.94 Q1238.46 1540.33 1238.46 1531.6 Q1238.46 1522.85 1241.52 1518.27 Q1244.6 1513.66 1250.41 1513.66 Z\" fill=\"#000000\" fill-rule=\"nonzero\" fill-opacity=\"1\" /><path clip-path=\"url(#clip620)\" d=\"M1480.66 1544.91 L1488.29 1544.91 L1488.29 1518.55 L1479.98 1520.21 L1479.98 1515.95 L1488.25 1514.29 L1492.92 1514.29 L1492.92 1544.91 L1500.56 1544.91 L1500.56 1548.85 L1480.66 1548.85 L1480.66 1544.91 Z\" fill=\"#000000\" fill-rule=\"nonzero\" fill-opacity=\"1\" /><path clip-path=\"url(#clip620)\" d=\"M1724.79 1544.91 L1741.11 1544.91 L1741.11 1548.85 L1719.17 1548.85 L1719.17 1544.91 Q1721.83 1542.16 1726.41 1537.53 Q1731.02 1532.88 1732.2 1531.53 Q1734.45 1529.01 1735.33 1527.27 Q1736.23 1525.51 1736.23 1523.82 Q1736.23 1521.07 1734.28 1519.33 Q1732.36 1517.6 1729.26 1517.6 Q1727.06 1517.6 1724.61 1518.36 Q1722.18 1519.13 1719.4 1520.68 L1719.4 1515.95 Q1722.22 1514.82 1724.68 1514.24 Q1727.13 1513.66 1729.17 1513.66 Q1734.54 1513.66 1737.73 1516.35 Q1740.93 1519.03 1740.93 1523.52 Q1740.93 1525.65 1740.12 1527.57 Q1739.33 1529.47 1737.22 1532.07 Q1736.65 1532.74 1733.54 1535.95 Q1730.44 1539.15 1724.79 1544.91 Z\" fill=\"#000000\" fill-rule=\"nonzero\" fill-opacity=\"1\" /><path clip-path=\"url(#clip620)\" d=\"M1974.26 1530.21 Q1977.61 1530.93 1979.49 1533.2 Q1981.39 1535.47 1981.39 1538.8 Q1981.39 1543.92 1977.87 1546.72 Q1974.35 1549.52 1967.87 1549.52 Q1965.69 1549.52 1963.38 1549.08 Q1961.08 1548.66 1958.63 1547.81 L1958.63 1543.29 Q1960.58 1544.43 1962.89 1545.01 Q1965.2 1545.58 1967.73 1545.58 Q1972.13 1545.58 1974.42 1543.85 Q1976.73 1542.11 1976.73 1538.8 Q1976.73 1535.75 1974.58 1534.03 Q1972.45 1532.3 1968.63 1532.3 L1964.6 1532.3 L1964.6 1528.45 L1968.82 1528.45 Q1972.27 1528.45 1974.09 1527.09 Q1975.92 1525.7 1975.92 1523.11 Q1975.92 1520.45 1974.02 1519.03 Q1972.15 1517.6 1968.63 1517.6 Q1966.71 1517.6 1964.51 1518.01 Q1962.31 1518.43 1959.67 1519.31 L1959.67 1515.14 Q1962.33 1514.4 1964.65 1514.03 Q1966.99 1513.66 1969.05 1513.66 Q1974.37 1513.66 1977.47 1516.09 Q1980.58 1518.5 1980.58 1522.62 Q1980.58 1525.49 1978.93 1527.48 Q1977.29 1529.45 1974.26 1530.21 Z\" fill=\"#000000\" fill-rule=\"nonzero\" fill-opacity=\"1\" /><polyline clip-path=\"url(#clip620)\" style=\"stroke:#000000; stroke-linecap:round; stroke-linejoin:round; stroke-width:4; stroke-opacity:1; fill:none\" points=\"530.804,1486.45 530.804,47.2441 \"/>\n",
       "<polyline clip-path=\"url(#clip620)\" style=\"stroke:#000000; stroke-linecap:round; stroke-linejoin:round; stroke-width:4; stroke-opacity:1; fill:none\" points=\"530.804,1486.45 543.141,1486.45 \"/>\n",
       "<polyline clip-path=\"url(#clip620)\" style=\"stroke:#000000; stroke-linecap:round; stroke-linejoin:round; stroke-width:4; stroke-opacity:1; fill:none\" points=\"530.804,1246.58 543.141,1246.58 \"/>\n",
       "<polyline clip-path=\"url(#clip620)\" style=\"stroke:#000000; stroke-linecap:round; stroke-linejoin:round; stroke-width:4; stroke-opacity:1; fill:none\" points=\"530.804,1006.71 543.141,1006.71 \"/>\n",
       "<polyline clip-path=\"url(#clip620)\" style=\"stroke:#000000; stroke-linecap:round; stroke-linejoin:round; stroke-width:4; stroke-opacity:1; fill:none\" points=\"530.804,766.846 543.141,766.846 \"/>\n",
       "<polyline clip-path=\"url(#clip620)\" style=\"stroke:#000000; stroke-linecap:round; stroke-linejoin:round; stroke-width:4; stroke-opacity:1; fill:none\" points=\"530.804,526.979 543.141,526.979 \"/>\n",
       "<polyline clip-path=\"url(#clip620)\" style=\"stroke:#000000; stroke-linecap:round; stroke-linejoin:round; stroke-width:4; stroke-opacity:1; fill:none\" points=\"530.804,287.111 543.141,287.111 \"/>\n",
       "<polyline clip-path=\"url(#clip620)\" style=\"stroke:#000000; stroke-linecap:round; stroke-linejoin:round; stroke-width:4; stroke-opacity:1; fill:none\" points=\"530.804,47.2441 543.141,47.2441 \"/>\n",
       "<path clip-path=\"url(#clip620)\" d=\"M433.74 1486.9 L463.416 1486.9 L463.416 1490.83 L433.74 1490.83 L433.74 1486.9 Z\" fill=\"#000000\" fill-rule=\"nonzero\" fill-opacity=\"1\" /><path clip-path=\"url(#clip620)\" d=\"M487.675 1485.09 Q491.031 1485.81 492.906 1488.08 Q494.804 1490.35 494.804 1493.68 Q494.804 1498.8 491.286 1501.6 Q487.767 1504.4 481.286 1504.4 Q479.11 1504.4 476.795 1503.96 Q474.504 1503.54 472.05 1502.69 L472.05 1498.17 Q473.994 1499.31 476.309 1499.89 Q478.624 1500.46 481.147 1500.46 Q485.545 1500.46 487.837 1498.73 Q490.152 1496.99 490.152 1493.68 Q490.152 1490.63 487.999 1488.91 Q485.869 1487.18 482.05 1487.18 L478.022 1487.18 L478.022 1483.33 L482.235 1483.33 Q485.684 1483.33 487.513 1481.97 Q489.341 1480.58 489.341 1477.99 Q489.341 1475.33 487.443 1473.91 Q485.568 1472.48 482.05 1472.48 Q480.129 1472.48 477.929 1472.89 Q475.73 1473.31 473.092 1474.19 L473.092 1470.02 Q475.754 1469.28 478.068 1468.91 Q480.406 1468.54 482.466 1468.54 Q487.791 1468.54 490.892 1470.97 Q493.994 1473.38 493.994 1477.5 Q493.994 1480.37 492.351 1482.36 Q490.707 1484.33 487.675 1485.09 Z\" fill=\"#000000\" fill-rule=\"nonzero\" fill-opacity=\"1\" /><path clip-path=\"url(#clip620)\" d=\"M434.689 1247.03 L464.365 1247.03 L464.365 1250.97 L434.689 1250.97 L434.689 1247.03 Z\" fill=\"#000000\" fill-rule=\"nonzero\" fill-opacity=\"1\" /><path clip-path=\"url(#clip620)\" d=\"M478.485 1259.93 L494.804 1259.93 L494.804 1263.86 L472.86 1263.86 L472.86 1259.93 Q475.522 1257.17 480.105 1252.54 Q484.712 1247.89 485.892 1246.55 Q488.138 1244.02 489.017 1242.29 Q489.92 1240.53 489.92 1238.84 Q489.92 1236.08 487.976 1234.35 Q486.054 1232.61 482.953 1232.61 Q480.754 1232.61 478.3 1233.37 Q475.869 1234.14 473.092 1235.69 L473.092 1230.97 Q475.916 1229.83 478.369 1229.25 Q480.823 1228.68 482.86 1228.68 Q488.23 1228.68 491.425 1231.36 Q494.619 1234.05 494.619 1238.54 Q494.619 1240.67 493.809 1242.59 Q493.022 1244.49 490.916 1247.08 Q490.337 1247.75 487.235 1250.97 Q484.133 1254.16 478.485 1259.93 Z\" fill=\"#000000\" fill-rule=\"nonzero\" fill-opacity=\"1\" /><path clip-path=\"url(#clip620)\" d=\"M434.319 1007.16 L463.994 1007.16 L463.994 1011.1 L434.319 1011.1 L434.319 1007.16 Z\" fill=\"#000000\" fill-rule=\"nonzero\" fill-opacity=\"1\" /><path clip-path=\"url(#clip620)\" d=\"M474.897 1020.06 L482.536 1020.06 L482.536 993.693 L474.226 995.359 L474.226 991.1 L482.49 989.433 L487.166 989.433 L487.166 1020.06 L494.804 1020.06 L494.804 1023.99 L474.897 1023.99 L474.897 1020.06 Z\" fill=\"#000000\" fill-rule=\"nonzero\" fill-opacity=\"1\" /><path clip-path=\"url(#clip620)\" d=\"M482.86 752.645 Q479.249 752.645 477.42 756.209 Q475.615 759.751 475.615 766.881 Q475.615 773.987 477.42 777.552 Q479.249 781.094 482.86 781.094 Q486.494 781.094 488.3 777.552 Q490.128 773.987 490.128 766.881 Q490.128 759.751 488.3 756.209 Q486.494 752.645 482.86 752.645 M482.86 748.941 Q488.67 748.941 491.726 753.547 Q494.804 758.131 494.804 766.881 Q494.804 775.608 491.726 780.214 Q488.67 784.797 482.86 784.797 Q477.05 784.797 473.971 780.214 Q470.916 775.608 470.916 766.881 Q470.916 758.131 473.971 753.547 Q477.05 748.941 482.86 748.941 Z\" fill=\"#000000\" fill-rule=\"nonzero\" fill-opacity=\"1\" /><path clip-path=\"url(#clip620)\" d=\"M474.897 540.324 L482.536 540.324 L482.536 513.958 L474.226 515.625 L474.226 511.365 L482.49 509.699 L487.166 509.699 L487.166 540.324 L494.804 540.324 L494.804 544.259 L474.897 544.259 L474.897 540.324 Z\" fill=\"#000000\" fill-rule=\"nonzero\" fill-opacity=\"1\" /><path clip-path=\"url(#clip620)\" d=\"M478.485 300.456 L494.804 300.456 L494.804 304.391 L472.86 304.391 L472.86 300.456 Q475.522 297.702 480.105 293.072 Q484.712 288.419 485.892 287.077 Q488.138 284.554 489.017 282.817 Q489.92 281.058 489.92 279.368 Q489.92 276.614 487.976 274.878 Q486.054 273.142 482.953 273.142 Q480.754 273.142 478.3 273.905 Q475.869 274.669 473.092 276.22 L473.092 271.498 Q475.916 270.364 478.369 269.785 Q480.823 269.206 482.86 269.206 Q488.23 269.206 491.425 271.892 Q494.619 274.577 494.619 279.067 Q494.619 281.197 493.809 283.118 Q493.022 285.016 490.916 287.609 Q490.337 288.28 487.235 291.498 Q484.133 294.692 478.485 300.456 Z\" fill=\"#000000\" fill-rule=\"nonzero\" fill-opacity=\"1\" /><path clip-path=\"url(#clip620)\" d=\"M487.675 45.8899 Q491.031 46.6075 492.906 48.876 Q494.804 51.1445 494.804 54.4779 Q494.804 59.5936 491.286 62.3945 Q487.767 65.1954 481.286 65.1954 Q479.11 65.1954 476.795 64.7556 Q474.504 64.3389 472.05 63.4824 L472.05 58.9686 Q473.994 60.1028 476.309 60.6815 Q478.624 61.2602 481.147 61.2602 Q485.545 61.2602 487.837 59.5241 Q490.152 57.788 490.152 54.4779 Q490.152 51.4223 487.999 49.7094 Q485.869 47.9733 482.05 47.9733 L478.022 47.9733 L478.022 44.1307 L482.235 44.1307 Q485.684 44.1307 487.513 42.765 Q489.341 41.3761 489.341 38.7835 Q489.341 36.1215 487.443 34.7094 Q485.568 33.2743 482.05 33.2743 Q480.129 33.2743 477.929 33.6909 Q475.73 34.1076 473.092 34.9872 L473.092 30.8206 Q475.754 30.0798 478.068 29.7095 Q480.406 29.3391 482.466 29.3391 Q487.791 29.3391 490.892 31.7696 Q493.994 34.177 493.994 38.2974 Q493.994 41.1677 492.351 43.1585 Q490.707 45.1261 487.675 45.8899 Z\" fill=\"#000000\" fill-rule=\"nonzero\" fill-opacity=\"1\" /><path clip-path=\"url(#clip622)\" d=\"M1490.27 766.846 L1489.14 762.179 L1486.37 758.223 L1482.79 754.958 L1478.81 752.195 L1474.61 749.793 L1470.26 747.661 L1465.81 745.739 L1461.29 743.987 L1456.72 742.375 L1452.11 740.883 L1447.47 739.494 L1442.8 738.196 L1438.11 736.977 L1433.4 735.831 L1428.68 734.749 L1423.94 733.727 L1419.19 732.76 L1414.44 731.843 L1409.67 730.973 L1404.89 730.147 L1400.11 729.363 L1395.32 728.618 L1390.53 727.909 L1385.73 727.236 L1380.93 726.596 L1376.12 725.989 L1371.31 725.412 L1366.49 724.865 L1361.68 724.346 L1356.85 723.855 L1352.03 723.391 L1347.21 722.952 L1342.38 722.539 L1337.55 722.15 L1332.72 721.785 L1327.88 721.444 L1323.05 721.125 L1318.21 720.829 L1313.37 720.555 L1308.53 720.302 L1303.69 720.071 L1298.85 719.861 L1294.01 719.672 L1289.17 719.503 L1284.32 719.354 L1279.48 719.226 L1274.63 719.118 L1269.79 719.029 L1264.94 718.961 L1260.1 718.912 L1255.25 718.882 L1250.41 718.873 L1245.56 718.882 L1240.71 718.912 L1235.87 718.961 L1231.02 719.029 L1226.18 719.118 L1221.33 719.226 L1216.49 719.354 L1211.65 719.503 L1206.8 719.672 L1201.96 719.861 L1197.12 720.071 L1192.28 720.302 L1187.44 720.555 L1182.6 720.829 L1177.77 721.125 L1172.93 721.444 L1168.1 721.785 L1163.27 722.15 L1158.44 722.539 L1153.61 722.952 L1148.78 723.391 L1143.96 723.855 L1139.14 724.346 L1134.32 724.865 L1129.5 725.412 L1124.69 725.989 L1119.89 726.596 L1115.08 727.236 L1110.28 727.909 L1105.49 728.618 L1100.7 729.363 L1095.92 730.147 L1091.14 730.973 L1086.38 731.843 L1081.62 732.76 L1076.87 733.727 L1072.13 734.749 L1067.41 735.831 L1062.7 736.977 L1058.01 738.196 L1053.34 739.494 L1048.7 740.883 L1044.09 742.375 L1039.52 743.987 L1035 745.739 L1030.56 747.661 L1026.21 749.793 L1022 752.195 L1018.02 754.958 L1014.45 758.223 L1011.68 762.179 L1010.54 766.846 L1011.68 771.513 L1014.45 775.469 L1018.02 778.734 L1022 781.497 L1026.21 783.899 L1030.56 786.031 L1035 787.953 L1039.52 789.705 L1044.09 791.317 L1048.7 792.809 L1053.34 794.198 L1058.01 795.496 L1062.7 796.715 L1067.41 797.861 L1072.13 798.943 L1076.87 799.965 L1081.62 800.932 L1086.38 801.849 L1091.14 802.719 L1095.92 803.545 L1100.7 804.329 L1105.49 805.074 L1110.28 805.783 L1115.08 806.456 L1119.89 807.095 L1124.69 807.703 L1129.5 808.28 L1134.32 808.827 L1139.14 809.346 L1143.96 809.837 L1148.78 810.301 L1153.61 810.74 L1158.44 811.153 L1163.27 811.542 L1168.1 811.907 L1172.93 812.248 L1177.77 812.567 L1182.6 812.863 L1187.44 813.137 L1192.28 813.39 L1197.12 813.621 L1201.96 813.831 L1206.8 814.02 L1211.65 814.189 L1216.49 814.337 L1221.33 814.466 L1226.18 814.574 L1231.02 814.663 L1235.87 814.731 L1240.71 814.78 L1245.56 814.81 L1250.41 814.819 L1255.25 814.81 L1260.1 814.78 L1264.94 814.731 L1269.79 814.663 L1274.63 814.574 L1279.48 814.466 L1284.32 814.337 L1289.17 814.189 L1294.01 814.02 L1298.85 813.831 L1303.69 813.621 L1308.53 813.39 L1313.37 813.137 L1318.21 812.863 L1323.05 812.567 L1327.88 812.248 L1332.72 811.907 L1337.55 811.542 L1342.38 811.153 L1347.21 810.74 L1352.03 810.301 L1356.85 809.837 L1361.68 809.346 L1366.49 808.827 L1371.31 808.28 L1376.12 807.703 L1380.93 807.095 L1385.73 806.456 L1390.53 805.783 L1395.32 805.074 L1400.11 804.329 L1404.89 803.545 L1409.67 802.719 L1414.44 801.849 L1419.19 800.932 L1423.94 799.965 L1428.68 798.943 L1433.4 797.861 L1438.11 796.715 L1442.8 795.496 L1447.47 794.198 L1452.11 792.809 L1456.72 791.317 L1461.29 789.705 L1465.81 787.953 L1470.26 786.031 L1474.61 783.899 L1478.81 781.497 L1482.79 778.734 L1486.37 775.469 L1489.14 771.513 L1490.27 766.846 L1490.27 766.846 L1489.14 766.846 L1486.37 766.846 L1482.79 766.846 L1478.81 766.846 L1474.61 766.846 L1470.26 766.846 L1465.81 766.846 L1461.29 766.846 L1456.72 766.846 L1452.11 766.846 L1447.47 766.846 L1442.8 766.846 L1438.11 766.846 L1433.4 766.846 L1428.68 766.846 L1423.94 766.846 L1419.19 766.846 L1414.44 766.846 L1409.67 766.846 L1404.89 766.846 L1400.11 766.846 L1395.32 766.846 L1390.53 766.846 L1385.73 766.846 L1380.93 766.846 L1376.12 766.846 L1371.31 766.846 L1366.49 766.846 L1361.68 766.846 L1356.85 766.846 L1352.03 766.846 L1347.21 766.846 L1342.38 766.846 L1337.55 766.846 L1332.72 766.846 L1327.88 766.846 L1323.05 766.846 L1318.21 766.846 L1313.37 766.846 L1308.53 766.846 L1303.69 766.846 L1298.85 766.846 L1294.01 766.846 L1289.17 766.846 L1284.32 766.846 L1279.48 766.846 L1274.63 766.846 L1269.79 766.846 L1264.94 766.846 L1260.1 766.846 L1255.25 766.846 L1250.41 766.846 L1245.56 766.846 L1240.71 766.846 L1235.87 766.846 L1231.02 766.846 L1226.18 766.846 L1221.33 766.846 L1216.49 766.846 L1211.65 766.846 L1206.8 766.846 L1201.96 766.846 L1197.12 766.846 L1192.28 766.846 L1187.44 766.846 L1182.6 766.846 L1177.77 766.846 L1172.93 766.846 L1168.1 766.846 L1163.27 766.846 L1158.44 766.846 L1153.61 766.846 L1148.78 766.846 L1143.96 766.846 L1139.14 766.846 L1134.32 766.846 L1129.5 766.846 L1124.69 766.846 L1119.89 766.846 L1115.08 766.846 L1110.28 766.846 L1105.49 766.846 L1100.7 766.846 L1095.92 766.846 L1091.14 766.846 L1086.38 766.846 L1081.62 766.846 L1076.87 766.846 L1072.13 766.846 L1067.41 766.846 L1062.7 766.846 L1058.01 766.846 L1053.34 766.846 L1048.7 766.846 L1044.09 766.846 L1039.52 766.846 L1035 766.846 L1030.56 766.846 L1026.21 766.846 L1022 766.846 L1018.02 766.846 L1014.45 766.846 L1011.68 766.846 L1010.54 766.846 L1011.68 766.846 L1014.45 766.846 L1018.02 766.846 L1022 766.846 L1026.21 766.846 L1030.56 766.846 L1035 766.846 L1039.52 766.846 L1044.09 766.846 L1048.7 766.846 L1053.34 766.846 L1058.01 766.846 L1062.7 766.846 L1067.41 766.846 L1072.13 766.846 L1076.87 766.846 L1081.62 766.846 L1086.38 766.846 L1091.14 766.846 L1095.92 766.846 L1100.7 766.846 L1105.49 766.846 L1110.28 766.846 L1115.08 766.846 L1119.89 766.846 L1124.69 766.846 L1129.5 766.846 L1134.32 766.846 L1139.14 766.846 L1143.96 766.846 L1148.78 766.846 L1153.61 766.846 L1158.44 766.846 L1163.27 766.846 L1168.1 766.846 L1172.93 766.846 L1177.77 766.846 L1182.6 766.846 L1187.44 766.846 L1192.28 766.846 L1197.12 766.846 L1201.96 766.846 L1206.8 766.846 L1211.65 766.846 L1216.49 766.846 L1221.33 766.846 L1226.18 766.846 L1231.02 766.846 L1235.87 766.846 L1240.71 766.846 L1245.56 766.846 L1250.41 766.846 L1255.25 766.846 L1260.1 766.846 L1264.94 766.846 L1269.79 766.846 L1274.63 766.846 L1279.48 766.846 L1284.32 766.846 L1289.17 766.846 L1294.01 766.846 L1298.85 766.846 L1303.69 766.846 L1308.53 766.846 L1313.37 766.846 L1318.21 766.846 L1323.05 766.846 L1327.88 766.846 L1332.72 766.846 L1337.55 766.846 L1342.38 766.846 L1347.21 766.846 L1352.03 766.846 L1356.85 766.846 L1361.68 766.846 L1366.49 766.846 L1371.31 766.846 L1376.12 766.846 L1380.93 766.846 L1385.73 766.846 L1390.53 766.846 L1395.32 766.846 L1400.11 766.846 L1404.89 766.846 L1409.67 766.846 L1414.44 766.846 L1419.19 766.846 L1423.94 766.846 L1428.68 766.846 L1433.4 766.846 L1438.11 766.846 L1442.8 766.846 L1447.47 766.846 L1452.11 766.846 L1456.72 766.846 L1461.29 766.846 L1465.81 766.846 L1470.26 766.846 L1474.61 766.846 L1478.81 766.846 L1482.79 766.846 L1486.37 766.846 L1489.14 766.846 L1490.27 766.846  Z\" fill=\"#808080\" fill-rule=\"evenodd\" fill-opacity=\"1\"/>\n",
       "<polyline clip-path=\"url(#clip622)\" style=\"stroke:#97b476; stroke-linecap:round; stroke-linejoin:round; stroke-width:4; stroke-opacity:1; fill:none\" points=\"1490.27,766.846 1489.14,762.179 1486.37,758.223 1482.79,754.958 1478.81,752.195 1474.61,749.793 1470.26,747.661 1465.81,745.739 1461.29,743.987 1456.72,742.375 1452.11,740.883 1447.47,739.494 1442.8,738.196 1438.11,736.977 1433.4,735.831 1428.68,734.749 1423.94,733.727 1419.19,732.76 1414.44,731.843 1409.67,730.973 1404.89,730.147 1400.11,729.363 1395.32,728.618 1390.53,727.909 1385.73,727.236 1380.93,726.596 1376.12,725.989 1371.31,725.412 1366.49,724.865 1361.68,724.346 1356.85,723.855 1352.03,723.391 1347.21,722.952 1342.38,722.539 1337.55,722.15 1332.72,721.785 1327.88,721.444 1323.05,721.125 1318.21,720.829 1313.37,720.555 1308.53,720.302 1303.69,720.071 1298.85,719.861 1294.01,719.672 1289.17,719.503 1284.32,719.354 1279.48,719.226 1274.63,719.118 1269.79,719.029 1264.94,718.961 1260.1,718.912 1255.25,718.882 1250.41,718.873 1245.56,718.882 1240.71,718.912 1235.87,718.961 1231.02,719.029 1226.18,719.118 1221.33,719.226 1216.49,719.354 1211.65,719.503 1206.8,719.672 1201.96,719.861 1197.12,720.071 1192.28,720.302 1187.44,720.555 1182.6,720.829 1177.77,721.125 1172.93,721.444 1168.1,721.785 1163.27,722.15 1158.44,722.539 1153.61,722.952 1148.78,723.391 1143.96,723.855 1139.14,724.346 1134.32,724.865 1129.5,725.412 1124.69,725.989 1119.89,726.596 1115.08,727.236 1110.28,727.909 1105.49,728.618 1100.7,729.363 1095.92,730.147 1091.14,730.973 1086.38,731.843 1081.62,732.76 1076.87,733.727 1072.13,734.749 1067.41,735.831 1062.7,736.977 1058.01,738.196 1053.34,739.494 1048.7,740.883 1044.09,742.375 1039.52,743.987 1035,745.739 1030.56,747.661 1026.21,749.793 1022,752.195 1018.02,754.958 1014.45,758.223 1011.68,762.179 1010.54,766.846 1011.68,771.513 1014.45,775.469 1018.02,778.734 1022,781.497 1026.21,783.899 1030.56,786.031 1035,787.953 1039.52,789.705 1044.09,791.317 1048.7,792.809 1053.34,794.198 1058.01,795.496 1062.7,796.715 1067.41,797.861 1072.13,798.943 1076.87,799.965 1081.62,800.932 1086.38,801.849 1091.14,802.719 1095.92,803.545 1100.7,804.329 1105.49,805.074 1110.28,805.783 1115.08,806.456 1119.89,807.095 1124.69,807.703 1129.5,808.28 1134.32,808.827 1139.14,809.346 1143.96,809.837 1148.78,810.301 1153.61,810.74 1158.44,811.153 1163.27,811.542 1168.1,811.907 1172.93,812.248 1177.77,812.567 1182.6,812.863 1187.44,813.137 1192.28,813.39 1197.12,813.621 1201.96,813.831 1206.8,814.02 1211.65,814.189 1216.49,814.337 1221.33,814.466 1226.18,814.574 1231.02,814.663 1235.87,814.731 1240.71,814.78 1245.56,814.81 1250.41,814.819 1255.25,814.81 1260.1,814.78 1264.94,814.731 1269.79,814.663 1274.63,814.574 1279.48,814.466 1284.32,814.337 1289.17,814.189 1294.01,814.02 1298.85,813.831 1303.69,813.621 1308.53,813.39 1313.37,813.137 1318.21,812.863 1323.05,812.567 1327.88,812.248 1332.72,811.907 1337.55,811.542 1342.38,811.153 1347.21,810.74 1352.03,810.301 1356.85,809.837 1361.68,809.346 1366.49,808.827 1371.31,808.28 1376.12,807.703 1380.93,807.095 1385.73,806.456 1390.53,805.783 1395.32,805.074 1400.11,804.329 1404.89,803.545 1409.67,802.719 1414.44,801.849 1419.19,800.932 1423.94,799.965 1428.68,798.943 1433.4,797.861 1438.11,796.715 1442.8,795.496 1447.47,794.198 1452.11,792.809 1456.72,791.317 1461.29,789.705 1465.81,787.953 1470.26,786.031 1474.61,783.899 1478.81,781.497 1482.79,778.734 1486.37,775.469 1489.14,771.513 1490.27,766.846 \"/>\n",
       "<path clip-path=\"url(#clip622)\" d=\"M1817.94 287.111 L1814.62 283.639 L1810.24 281.597 L1805.52 280.557 L1800.69 280.153 L1795.84 280.176 L1791.01 280.505 L1786.2 281.064 L1781.41 281.806 L1776.65 282.695 L1771.91 283.708 L1767.19 284.827 L1762.5 286.036 L1757.83 287.326 L1753.18 288.687 L1748.55 290.112 L1743.93 291.595 L1739.34 293.132 L1734.76 294.717 L1730.2 296.347 L1725.65 298.019 L1721.11 299.731 L1716.59 301.48 L1712.09 303.263 L1707.6 305.08 L1703.12 306.927 L1698.65 308.805 L1694.19 310.711 L1689.75 312.645 L1685.32 314.605 L1680.9 316.59 L1676.49 318.599 L1672.09 320.632 L1667.7 322.689 L1663.33 324.767 L1658.96 326.867 L1654.6 328.988 L1650.25 331.13 L1645.92 333.292 L1641.59 335.473 L1637.27 337.674 L1632.97 339.894 L1628.67 342.133 L1624.38 344.39 L1620.1 346.665 L1615.83 348.958 L1611.57 351.269 L1607.32 353.598 L1603.08 355.944 L1598.85 358.307 L1594.63 360.687 L1590.42 363.084 L1586.22 365.499 L1582.03 367.93 L1577.85 370.378 L1573.68 372.844 L1569.51 375.326 L1565.36 377.825 L1561.22 380.341 L1557.09 382.874 L1552.97 385.425 L1548.86 387.992 L1544.76 390.577 L1540.67 393.18 L1536.6 395.8 L1532.53 398.438 L1528.48 401.095 L1524.44 403.77 L1520.41 406.463 L1516.4 409.176 L1512.39 411.908 L1508.4 414.66 L1504.43 417.432 L1500.47 420.224 L1496.52 423.038 L1492.6 425.874 L1488.68 428.732 L1484.79 431.613 L1480.91 434.519 L1477.05 437.448 L1473.21 440.404 L1469.39 443.386 L1465.59 446.397 L1461.82 449.436 L1458.07 452.506 L1454.35 455.609 L1450.65 458.746 L1446.99 461.919 L1443.36 465.131 L1439.77 468.384 L1436.22 471.683 L1432.72 475.03 L1429.26 478.43 L1425.87 481.889 L1422.54 485.413 L1419.3 489.01 L1416.15 492.691 L1413.11 496.467 L1410.22 500.355 L1407.52 504.377 L1405.07 508.561 L1403.01 512.943 L1401.55 517.557 L1401.13 522.368 L1402.48 526.979 L1405.79 530.451 L1410.17 532.493 L1414.9 533.533 L1419.73 533.937 L1424.57 533.914 L1429.4 533.585 L1434.22 533.026 L1439.01 532.284 L1443.77 531.395 L1448.51 530.382 L1453.22 529.263 L1457.91 528.054 L1462.59 526.764 L1467.24 525.403 L1471.87 523.978 L1476.48 522.495 L1481.08 520.958 L1485.66 519.373 L1490.22 517.743 L1494.77 516.071 L1499.3 514.359 L1503.82 512.61 L1508.33 510.827 L1512.82 509.01 L1517.3 507.163 L1521.76 505.285 L1526.22 503.379 L1530.66 501.445 L1535.09 499.486 L1539.52 497.5 L1543.92 495.491 L1548.32 493.458 L1552.71 491.402 L1557.09 489.323 L1561.46 487.223 L1565.81 485.102 L1570.16 482.96 L1574.5 480.798 L1578.82 478.617 L1583.14 476.416 L1587.45 474.196 L1591.75 471.957 L1596.03 469.7 L1600.31 467.425 L1604.58 465.132 L1608.84 462.821 L1613.09 460.492 L1617.33 458.147 L1621.56 455.783 L1625.78 453.403 L1629.99 451.006 L1634.19 448.591 L1638.39 446.16 L1642.57 443.712 L1646.74 441.246 L1650.9 438.764 L1655.05 436.265 L1659.19 433.749 L1663.33 431.216 L1667.45 428.666 L1671.56 426.098 L1675.65 423.513 L1679.74 420.91 L1683.82 418.29 L1687.88 415.652 L1691.93 412.995 L1695.98 410.32 L1700 407.627 L1704.02 404.914 L1708.02 402.182 L1712.01 399.43 L1715.98 396.658 L1719.94 393.866 L1723.89 391.052 L1727.82 388.216 L1731.73 385.358 L1735.63 382.477 L1739.51 379.572 L1743.37 376.642 L1747.21 373.686 L1751.03 370.704 L1754.82 367.693 L1758.6 364.654 L1762.35 361.584 L1766.07 358.481 L1769.76 355.344 L1773.42 352.171 L1777.05 348.959 L1780.64 345.706 L1784.19 342.407 L1787.7 339.06 L1791.15 335.66 L1794.54 332.201 L1797.87 328.677 L1801.12 325.08 L1804.27 321.399 L1807.3 317.623 L1810.2 313.735 L1812.9 309.713 L1815.34 305.529 L1817.4 301.147 L1818.87 296.533 L1819.29 291.722 L1817.94 287.111 L1817.94 766.846 L1819.29 766.846 L1818.87 766.846 L1817.4 766.846 L1815.34 766.846 L1812.9 766.846 L1810.2 766.846 L1807.3 766.846 L1804.27 766.846 L1801.12 766.846 L1797.87 766.846 L1794.54 766.846 L1791.15 766.846 L1787.7 766.846 L1784.19 766.846 L1780.64 766.846 L1777.05 766.846 L1773.42 766.846 L1769.76 766.846 L1766.07 766.846 L1762.35 766.846 L1758.6 766.846 L1754.82 766.846 L1751.03 766.846 L1747.21 766.846 L1743.37 766.846 L1739.51 766.846 L1735.63 766.846 L1731.73 766.846 L1727.82 766.846 L1723.89 766.846 L1719.94 766.846 L1715.98 766.846 L1712.01 766.846 L1708.02 766.846 L1704.02 766.846 L1700 766.846 L1695.98 766.846 L1691.93 766.846 L1687.88 766.846 L1683.82 766.846 L1679.74 766.846 L1675.65 766.846 L1671.56 766.846 L1667.45 766.846 L1663.33 766.846 L1659.19 766.846 L1655.05 766.846 L1650.9 766.846 L1646.74 766.846 L1642.57 766.846 L1638.39 766.846 L1634.19 766.846 L1629.99 766.846 L1625.78 766.846 L1621.56 766.846 L1617.33 766.846 L1613.09 766.846 L1608.84 766.846 L1604.58 766.846 L1600.31 766.846 L1596.03 766.846 L1591.75 766.846 L1587.45 766.846 L1583.14 766.846 L1578.82 766.846 L1574.5 766.846 L1570.16 766.846 L1565.81 766.846 L1561.46 766.846 L1557.09 766.846 L1552.71 766.846 L1548.32 766.846 L1543.92 766.846 L1539.52 766.846 L1535.09 766.846 L1530.66 766.846 L1526.22 766.846 L1521.76 766.846 L1517.3 766.846 L1512.82 766.846 L1508.33 766.846 L1503.82 766.846 L1499.3 766.846 L1494.77 766.846 L1490.22 766.846 L1485.66 766.846 L1481.08 766.846 L1476.48 766.846 L1471.87 766.846 L1467.24 766.846 L1462.59 766.846 L1457.91 766.846 L1453.22 766.846 L1448.51 766.846 L1443.77 766.846 L1439.01 766.846 L1434.22 766.846 L1429.4 766.846 L1424.57 766.846 L1419.73 766.846 L1414.9 766.846 L1410.17 766.846 L1405.79 766.846 L1402.48 766.846 L1401.13 766.846 L1401.55 766.846 L1403.01 766.846 L1405.07 766.846 L1407.52 766.846 L1410.22 766.846 L1413.11 766.846 L1416.15 766.846 L1419.3 766.846 L1422.54 766.846 L1425.87 766.846 L1429.26 766.846 L1432.72 766.846 L1436.22 766.846 L1439.77 766.846 L1443.36 766.846 L1446.99 766.846 L1450.65 766.846 L1454.35 766.846 L1458.07 766.846 L1461.82 766.846 L1465.59 766.846 L1469.39 766.846 L1473.21 766.846 L1477.05 766.846 L1480.91 766.846 L1484.79 766.846 L1488.68 766.846 L1492.6 766.846 L1496.52 766.846 L1500.47 766.846 L1504.43 766.846 L1508.4 766.846 L1512.39 766.846 L1516.4 766.846 L1520.41 766.846 L1524.44 766.846 L1528.48 766.846 L1532.53 766.846 L1536.6 766.846 L1540.67 766.846 L1544.76 766.846 L1548.86 766.846 L1552.97 766.846 L1557.09 766.846 L1561.22 766.846 L1565.36 766.846 L1569.51 766.846 L1573.68 766.846 L1577.85 766.846 L1582.03 766.846 L1586.22 766.846 L1590.42 766.846 L1594.63 766.846 L1598.85 766.846 L1603.08 766.846 L1607.32 766.846 L1611.57 766.846 L1615.83 766.846 L1620.1 766.846 L1624.38 766.846 L1628.67 766.846 L1632.97 766.846 L1637.27 766.846 L1641.59 766.846 L1645.92 766.846 L1650.25 766.846 L1654.6 766.846 L1658.96 766.846 L1663.33 766.846 L1667.7 766.846 L1672.09 766.846 L1676.49 766.846 L1680.9 766.846 L1685.32 766.846 L1689.75 766.846 L1694.19 766.846 L1698.65 766.846 L1703.12 766.846 L1707.6 766.846 L1712.09 766.846 L1716.59 766.846 L1721.11 766.846 L1725.65 766.846 L1730.2 766.846 L1734.76 766.846 L1739.34 766.846 L1743.93 766.846 L1748.55 766.846 L1753.18 766.846 L1757.83 766.846 L1762.5 766.846 L1767.19 766.846 L1771.91 766.846 L1776.65 766.846 L1781.41 766.846 L1786.2 766.846 L1791.01 766.846 L1795.84 766.846 L1800.69 766.846 L1805.52 766.846 L1810.24 766.846 L1814.62 766.846 L1817.94 766.846  Z\" fill=\"#97b476\" fill-rule=\"evenodd\" fill-opacity=\"1\"/>\n",
       "<polyline clip-path=\"url(#clip622)\" style=\"stroke:#97b476; stroke-linecap:round; stroke-linejoin:round; stroke-width:4; stroke-opacity:1; fill:none\" points=\"1817.94,287.111 1814.62,283.639 1810.24,281.597 1805.52,280.557 1800.69,280.153 1795.84,280.176 1791.01,280.505 1786.2,281.064 1781.41,281.806 1776.65,282.695 1771.91,283.708 1767.19,284.827 1762.5,286.036 1757.83,287.326 1753.18,288.687 1748.55,290.112 1743.93,291.595 1739.34,293.132 1734.76,294.717 1730.2,296.347 1725.65,298.019 1721.11,299.731 1716.59,301.48 1712.09,303.263 1707.6,305.08 1703.12,306.927 1698.65,308.805 1694.19,310.711 1689.75,312.645 1685.32,314.605 1680.9,316.59 1676.49,318.599 1672.09,320.632 1667.7,322.689 1663.33,324.767 1658.96,326.867 1654.6,328.988 1650.25,331.13 1645.92,333.292 1641.59,335.473 1637.27,337.674 1632.97,339.894 1628.67,342.133 1624.38,344.39 1620.1,346.665 1615.83,348.958 1611.57,351.269 1607.32,353.598 1603.08,355.944 1598.85,358.307 1594.63,360.687 1590.42,363.084 1586.22,365.499 1582.03,367.93 1577.85,370.378 1573.68,372.844 1569.51,375.326 1565.36,377.825 1561.22,380.341 1557.09,382.874 1552.97,385.425 1548.86,387.992 1544.76,390.577 1540.67,393.18 1536.6,395.8 1532.53,398.438 1528.48,401.095 1524.44,403.77 1520.41,406.463 1516.4,409.176 1512.39,411.908 1508.4,414.66 1504.43,417.432 1500.47,420.224 1496.52,423.038 1492.6,425.874 1488.68,428.732 1484.79,431.613 1480.91,434.519 1477.05,437.448 1473.21,440.404 1469.39,443.386 1465.59,446.397 1461.82,449.436 1458.07,452.506 1454.35,455.609 1450.65,458.746 1446.99,461.919 1443.36,465.131 1439.77,468.384 1436.22,471.683 1432.72,475.03 1429.26,478.43 1425.87,481.889 1422.54,485.413 1419.3,489.01 1416.15,492.691 1413.11,496.467 1410.22,500.355 1407.52,504.377 1405.07,508.561 1403.01,512.943 1401.55,517.557 1401.13,522.368 1402.48,526.979 1405.79,530.451 1410.17,532.493 1414.9,533.533 1419.73,533.937 1424.57,533.914 1429.4,533.585 1434.22,533.026 1439.01,532.284 1443.77,531.395 1448.51,530.382 1453.22,529.263 1457.91,528.054 1462.59,526.764 1467.24,525.403 1471.87,523.978 1476.48,522.495 1481.08,520.958 1485.66,519.373 1490.22,517.743 1494.77,516.071 1499.3,514.359 1503.82,512.61 1508.33,510.827 1512.82,509.01 1517.3,507.163 1521.76,505.285 1526.22,503.379 1530.66,501.445 1535.09,499.486 1539.52,497.5 1543.92,495.491 1548.32,493.458 1552.71,491.402 1557.09,489.323 1561.46,487.223 1565.81,485.102 1570.16,482.96 1574.5,480.798 1578.82,478.617 1583.14,476.416 1587.45,474.196 1591.75,471.957 1596.03,469.7 1600.31,467.425 1604.58,465.132 1608.84,462.821 1613.09,460.492 1617.33,458.147 1621.56,455.783 1625.78,453.403 1629.99,451.006 1634.19,448.591 1638.39,446.16 1642.57,443.712 1646.74,441.246 1650.9,438.764 1655.05,436.265 1659.19,433.749 1663.33,431.216 1667.45,428.666 1671.56,426.098 1675.65,423.513 1679.74,420.91 1683.82,418.29 1687.88,415.652 1691.93,412.995 1695.98,410.32 1700,407.627 1704.02,404.914 1708.02,402.182 1712.01,399.43 1715.98,396.658 1719.94,393.866 1723.89,391.052 1727.82,388.216 1731.73,385.358 1735.63,382.477 1739.51,379.572 1743.37,376.642 1747.21,373.686 1751.03,370.704 1754.82,367.693 1758.6,364.654 1762.35,361.584 1766.07,358.481 1769.76,355.344 1773.42,352.171 1777.05,348.959 1780.64,345.706 1784.19,342.407 1787.7,339.06 1791.15,335.66 1794.54,332.201 1797.87,328.677 1801.12,325.08 1804.27,321.399 1807.3,317.623 1810.2,313.735 1812.9,309.713 1815.34,305.529 1817.4,301.147 1818.87,296.533 1819.29,291.722 1817.94,287.111 \"/>\n",
       "</svg>\n"
      ]
     },
     "metadata": {},
     "execution_count": 15
    }
   ],
   "cell_type": "code",
   "source": [
    "b = Ellipse(1.0,0.2,0.02)\n",
    "plot(b,xlims=(-3,3),ylims=(-3,3),fillcolor=:gray)\n",
    "plot!(Xm1(b),xlims=(-3,3),ylims=(-3,3))"
   ],
   "metadata": {},
   "execution_count": 15
  },
  {
   "cell_type": "markdown",
   "source": [
    "In the example above, we did not affect the original body by applying the\n",
    "transform as a function. Rather, we created a copy of the body.\n",
    "\n",
    "If, instead, you wish to transform the body in place, use `update_body!`"
   ],
   "metadata": {}
  },
  {
   "outputs": [
    {
     "output_type": "execute_result",
     "data": {
      "text/plain": "Elliptical body with 208 points and semi-axes (1.0,0.2)\n   Current position: (1.5,1.5)\n   Current angle (rad): 0.5235987755982987\n"
     },
     "metadata": {},
     "execution_count": 16
    }
   ],
   "cell_type": "code",
   "source": [
    "update_body!(b,Xm1)"
   ],
   "metadata": {},
   "execution_count": 16
  },
  {
   "cell_type": "markdown",
   "source": [
    "One important note: a body stores a set of coordinates in its own intrinsic\n",
    "coordinate system, and when a transform is applied to the body, it always\n",
    "acts on these coordinates. This means that the transform's application on the body\n",
    "cannot be carried out as a composite of operations, e.g. `T2(T1(b))` is not possible.\n",
    "Insteady, in the application on the body, the transform is always interpreted such that system A\n",
    "is the inertial coordinate system and B is the body system. Of course, the transform itself can always\n",
    "be constructed from composite transforms."
   ],
   "metadata": {}
  },
  {
   "cell_type": "markdown",
   "source": [
    "Sometimes we need information about the normals in the body system.\n",
    "For these, we can use `normalmid` with the flag `ref=true`:"
   ],
   "metadata": {}
  },
  {
   "outputs": [
    {
     "output_type": "execute_result",
     "data": {
      "text/plain": "([0.9999999999999883, 0.8863353378017462, 0.7369383257079377, 0.6074921092236701, 0.5315356836790982, 0.4600208693807857, 0.4196286225913724, 0.3738367953815684, 0.3490372105916199, 0.31621751783169716  …  0.2993769584369277, 0.3162178254216863, 0.3490368976184099, 0.3738371031048394, 0.41962831573128584, 0.4600211639931911, 0.5315354051225935, 0.6074923550501512, 0.7369381416992703, 0.8863354243292069], [-0.0, 0.46304391688467517, 0.6759599870574864, 0.7943257123063382, 0.8470359006416437, 0.8879081032033344, 0.9076958847004161, 0.9274945015572188, 0.9371088654059198, 0.9486867140507255  …  -0.954134915385159, -0.9486866115243656, -0.937108981976452, -0.9274943775259099, -0.9076960265620415, -0.8879079505660332, -0.8470360754425764, -0.7943255243007183, -0.6759601876655256, -0.4630437512580992])"
     },
     "metadata": {},
     "execution_count": 17
    }
   ],
   "cell_type": "code",
   "source": [
    "nx, ny = normalmid(b,ref=true)"
   ],
   "metadata": {},
   "execution_count": 17
  },
  {
   "cell_type": "markdown",
   "source": [
    "## Transforming Plücker vectors\n",
    "Transforms can be applied to Plücker vectors to transform their components\n",
    "between systems. Let's consider a 2d example in which the motion based at system A\n",
    "is purely a rotation with angular velocity $\\Omega = 1$, and we wish to transform this\n",
    "to system B, translated by $[2,0]$ from A, but with axes aligned with B.\n",
    "We expect that the velocity based at B should have the same angular velocity,\n",
    "but also should have translational velocity equal to $[0,2]$ due to the angular\n",
    "motion.\n",
    "\n",
    "First we construct the motion vector at A"
   ],
   "metadata": {}
  },
  {
   "outputs": [
    {
     "output_type": "execute_result",
     "data": {
      "text/plain": "2d Plucker motion vector, Ω = 1.0, U = [0.0, 0.0]"
     },
     "metadata": {},
     "execution_count": 18
    }
   ],
   "cell_type": "code",
   "source": [
    "Ω = 1.0\n",
    "vA = PluckerMotion(Ω,[0,0])"
   ],
   "metadata": {},
   "execution_count": 18
  },
  {
   "cell_type": "markdown",
   "source": [
    "Now construct the transform from A to B:"
   ],
   "metadata": {}
  },
  {
   "outputs": [
    {
     "output_type": "execute_result",
     "data": {
      "text/plain": "2d motion transform, x = [2.0, 0.0], R = [1.0 -0.0; 0.0 1.0]"
     },
     "metadata": {},
     "execution_count": 19
    }
   ],
   "cell_type": "code",
   "source": [
    "XA_to_B = MotionTransform([2,0],0)"
   ],
   "metadata": {},
   "execution_count": 19
  },
  {
   "cell_type": "markdown",
   "source": [
    "Now apply the transform to get the velocity at B:"
   ],
   "metadata": {}
  },
  {
   "outputs": [
    {
     "output_type": "execute_result",
     "data": {
      "text/plain": "2d Plucker motion vector, Ω = 1.0, U = [0.0, 2.0]"
     },
     "metadata": {},
     "execution_count": 20
    }
   ],
   "cell_type": "code",
   "source": [
    "vB = XA_to_B*vA"
   ],
   "metadata": {},
   "execution_count": 20
  },
  {
   "cell_type": "markdown",
   "source": [
    "which gives the expected result. Now let's transform back, using the inverse,\n",
    "and check that we get back to `vA`"
   ],
   "metadata": {}
  },
  {
   "outputs": [
    {
     "output_type": "execute_result",
     "data": {
      "text/plain": "2d Plucker motion vector, Ω = 1.0, U = [0.0, 0.0]"
     },
     "metadata": {},
     "execution_count": 21
    }
   ],
   "cell_type": "code",
   "source": [
    "inv(XA_to_B)*vB"
   ],
   "metadata": {},
   "execution_count": 21
  },
  {
   "cell_type": "markdown",
   "source": [
    "---\n",
    "\n",
    "*This notebook was generated using [Literate.jl](https://github.com/fredrikekre/Literate.jl).*"
   ],
   "metadata": {}
  }
 ],
 "nbformat_minor": 3,
 "metadata": {
  "language_info": {
   "file_extension": ".jl",
   "mimetype": "application/julia",
   "name": "julia",
   "version": "1.8.2"
  },
  "kernelspec": {
   "name": "julia-1.8",
   "display_name": "Julia 1.8.2",
   "language": "julia"
  }
 },
 "nbformat": 4
}
