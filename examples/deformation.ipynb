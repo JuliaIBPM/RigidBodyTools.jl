{
 "cells": [
  {
   "cell_type": "markdown",
   "metadata": {},
   "source": [
    "# Deforming bodies"
   ]
  },
  {
   "cell_type": "markdown",
   "metadata": {},
   "source": [
    "Thus far we have only shown rigid body motion. However, we can\n",
    "also prescribe surface deformation as an additional component\n",
    "of a body's motion."
   ]
  },
  {
   "cell_type": "code",
   "execution_count": 1,
   "metadata": {},
   "outputs": [
    {
     "name": "stderr",
     "output_type": "stream",
     "text": [
      "\u001b[36m\u001b[1m[ \u001b[22m\u001b[39m\u001b[36m\u001b[1mInfo: \u001b[22m\u001b[39mPrecompiling RigidBodyTools [befc5f09-81d5-499c-a4b2-d0464ba9f9c8]\n"
     ]
    }
   ],
   "source": [
    "using RigidBodyTools\n",
    "using Plots"
   ]
  },
  {
   "cell_type": "markdown",
   "metadata": {},
   "source": [
    "Before we get started, let's define the same macro that we used earlier\n",
    "in order to visualize our system's motion"
   ]
  },
  {
   "cell_type": "code",
   "execution_count": 2,
   "metadata": {},
   "outputs": [
    {
     "data": {
      "text/plain": [
       "@animate_motion (macro with 1 method)"
      ]
     },
     "execution_count": 2,
     "metadata": {},
     "output_type": "execute_result"
    }
   ],
   "source": [
    "macro animate_motion(b,m,dt,tmax,xlim,ylim)\n",
    "    return esc(quote\n",
    "            bc = deepcopy($b)\n",
    "            t0, x0 = 0.0, init_motion_state(bc,$m)\n",
    "            dxdt = zero(x0)\n",
    "            x = copy(x0)\n",
    "\n",
    "            a_edof = zero_joint(ls,dimfcn=exogenous_dimension)\n",
    "            a_udof = zero_joint(ls,dimfcn=unconstrained_dimension)\n",
    "\n",
    "            @gif for t in t0:$dt:t0+$tmax\n",
    "                motion_rhs!(dxdt,x,t,a_edof,a_udof,$m,bc)\n",
    "                global x += dxdt*$dt\n",
    "                update_body!(bc,x,$m)\n",
    "                plot(bc,xlims=$xlim,ylims=$ylim)\n",
    "            end every 5\n",
    "        end)\n",
    "end"
   ]
  },
  {
   "cell_type": "markdown",
   "metadata": {},
   "source": [
    "For deforming bodies, we specify the velocity of the surface directly. This\n",
    "deformation velocity is expressed in the coordinate system attached to the\n",
    "body, rather than the inertial coordinate system. This enables the\n",
    "motion to be easily superposed with the rigid-body motion described earlier.\n",
    "\n",
    "It is also important to note that the motion is applied **to the endpoints**\n",
    "of the surface segments. The midpoints are then constructed from the\n",
    "updated endpoints.\n",
    "Let's see an example. We will create an oscillatory deformation of a circle.\n",
    "We create the motion by creating functions for each component of velocity."
   ]
  },
  {
   "cell_type": "code",
   "execution_count": 3,
   "metadata": {},
   "outputs": [
    {
     "data": {
      "text/plain": [
       "DeformationMotion{typeof(ufcn), typeof(vfcn)}(ufcn, vfcn)"
      ]
     },
     "execution_count": 3,
     "metadata": {},
     "output_type": "execute_result"
    }
   ],
   "source": [
    "Ω = 2π\n",
    "ufcn(x,y,t) = 0.25*x*y*Ω*cos(Ω*t)\n",
    "vfcn(x,y,t) = 0.25*(x^2-y^2)*Ω*cos(Ω*t)\n",
    "def = DeformationMotion(ufcn,vfcn)"
   ]
  },
  {
   "cell_type": "markdown",
   "metadata": {},
   "source": [
    "We will create a simple fixed revolute joint that anchors the body's center to the\n",
    "inertial system."
   ]
  },
  {
   "cell_type": "code",
   "execution_count": 4,
   "metadata": {},
   "outputs": [
    {
     "data": {
      "text/plain": [
       "1 linked system(s) of bodies\n",
       "   1 bodies\n",
       "   1 joints\n"
      ]
     },
     "execution_count": 4,
     "metadata": {},
     "output_type": "execute_result"
    }
   ],
   "source": [
    "Xp_to_jp = MotionTransform(0.0,0.0,0.0)\n",
    "Xc_to_jc = MotionTransform(0.0,0.0,0.0)\n",
    "dofs = [ConstantVelocityDOF(0.0)]\n",
    "joint = Joint(RevoluteJoint,0,Xp_to_jp,1,Xc_to_jc,dofs)\n",
    "\n",
    "b = Circle(1.0,0.02)\n",
    "\n",
    "ls = RigidBodyMotion(joint,b,def)"
   ]
  },
  {
   "cell_type": "markdown",
   "metadata": {},
   "source": [
    "Let's animate this motion"
   ]
  },
  {
   "cell_type": "code",
   "execution_count": 5,
   "metadata": {},
   "outputs": [
    {
     "ename": "LoadError",
     "evalue": "UndefVarError: t not defined",
     "output_type": "error",
     "traceback": [
      "UndefVarError: t not defined",
      "",
      "Stacktrace:",
      " [1] update_body!(b::Ellipse{312}, x::Vector{Float64}, m::RigidBodyMotion{2})",
      "   @ RigidBodyTools ~/JuliaProjects/RigidBodyTools/src/rigidbodymotions.jl:480",
      " [2] macro expansion",
      "   @ ./In[2]:14 [inlined]",
      " [3] macro expansion",
      "   @ ~/.julia/packages/Plots/bMtsB/src/animation.jl:251 [inlined]",
      " [4] top-level scope",
      "   @ ./In[2]:11"
     ]
    }
   ],
   "source": [
    "@animate_motion b ls 0.01 4 (-2,2) (-2,2)"
   ]
  },
  {
   "cell_type": "markdown",
   "metadata": {},
   "source": [
    "---\n",
    "\n",
    "*This notebook was generated using [Literate.jl](https://github.com/fredrikekre/Literate.jl).*"
   ]
  }
 ],
 "metadata": {
  "@webio": {
   "lastCommId": null,
   "lastKernelId": null
  },
  "kernelspec": {
   "display_name": "Julia 1.8.2",
   "language": "julia",
   "name": "julia-1.8"
  },
  "language_info": {
   "file_extension": ".jl",
   "mimetype": "application/julia",
   "name": "julia",
   "version": "1.8.2"
  }
 },
 "nbformat": 4,
 "nbformat_minor": 3
}
